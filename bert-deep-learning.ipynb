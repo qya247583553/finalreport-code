{
 "cells": [
  {
   "cell_type": "markdown",
   "id": "7dc39dc2",
   "metadata": {
    "papermill": {
     "duration": 0.02499,
     "end_time": "2022-02-04T20:38:11.128925",
     "exception": false,
     "start_time": "2022-02-04T20:38:11.103935",
     "status": "completed"
    },
    "tags": []
   },
   "source": [
    "# 2301865741 - Edgard Jonathan Putra Pranoto"
   ]
  },
  {
   "cell_type": "markdown",
   "id": "ccf7f172",
   "metadata": {
    "papermill": {
     "duration": 0.023722,
     "end_time": "2022-02-04T20:38:11.177147",
     "exception": false,
     "start_time": "2022-02-04T20:38:11.153425",
     "status": "completed"
    },
    "tags": []
   },
   "source": [
    "# Import Some Library that will be used"
   ]
  },
  {
   "cell_type": "code",
   "execution_count": 1,
   "id": "b8fefa13",
   "metadata": {
    "_cell_guid": "b1076dfc-b9ad-4769-8c92-a6c4dae69d19",
    "_uuid": "8f2839f25d086af736a60e9eeb907d3b93b6e0e5",
    "execution": {
     "iopub.execute_input": "2022-02-04T20:38:11.237718Z",
     "iopub.status.busy": "2022-02-04T20:38:11.236969Z",
     "iopub.status.idle": "2022-02-04T20:38:19.155681Z",
     "shell.execute_reply": "2022-02-04T20:38:19.154760Z",
     "shell.execute_reply.started": "2022-02-04T18:24:52.481863Z"
    },
    "papermill": {
     "duration": 7.954844,
     "end_time": "2022-02-04T20:38:19.155829",
     "exception": false,
     "start_time": "2022-02-04T20:38:11.200985",
     "status": "completed"
    },
    "tags": []
   },
   "outputs": [],
   "source": [
    "import numpy as np\n",
    "import pandas as pd\n",
    "import tensorflow as tf\n",
    "import matplotlib.pyplot as plt\n",
    "import seaborn as sns\n",
    "import re, string\n",
    "import emoji\n",
    "import nltk\n",
    "from sklearn import preprocessing\n",
    "from sklearn.model_selection import train_test_split\n",
    "\n",
    "from transformers import BertTokenizerFast\n",
    "from transformers import TFBertModel\n",
    "\n",
    "import tensorflow as tf\n",
    "from tensorflow import keras\n",
    "\n",
    "from sklearn.metrics import accuracy_score, f1_score\n",
    "from sklearn.metrics import classification_report, confusion_matrix"
   ]
  },
  {
   "cell_type": "markdown",
   "id": "64599690",
   "metadata": {
    "papermill": {
     "duration": 0.023888,
     "end_time": "2022-02-04T20:38:19.203934",
     "exception": false,
     "start_time": "2022-02-04T20:38:19.180046",
     "status": "completed"
    },
    "tags": []
   },
   "source": [
    "# **4. A. Performing preprocess and prepare the dataset using BertTokenizer**"
   ]
  },
  {
   "cell_type": "markdown",
   "id": "742b8b30",
   "metadata": {
    "papermill": {
     "duration": 0.02365,
     "end_time": "2022-02-04T20:38:19.251120",
     "exception": false,
     "start_time": "2022-02-04T20:38:19.227470",
     "status": "completed"
    },
    "tags": []
   },
   "source": [
    "# Read .csv file containing the dataset"
   ]
  },
  {
   "cell_type": "code",
   "execution_count": 2,
   "id": "f0084271",
   "metadata": {
    "execution": {
     "iopub.execute_input": "2022-02-04T20:38:19.304726Z",
     "iopub.status.busy": "2022-02-04T20:38:19.304180Z",
     "iopub.status.idle": "2022-02-04T20:38:19.635551Z",
     "shell.execute_reply": "2022-02-04T20:38:19.635042Z",
     "shell.execute_reply.started": "2022-02-04T18:25:00.542202Z"
    },
    "papermill": {
     "duration": 0.360927,
     "end_time": "2022-02-04T20:38:19.635669",
     "exception": false,
     "start_time": "2022-02-04T20:38:19.274742",
     "status": "completed"
    },
    "tags": []
   },
   "outputs": [
    {
     "name": "stdout",
     "output_type": "stream",
     "text": [
      "   UserName  ScreenName   Location     TweetAt  \\\n",
      "0      3799       48751     London  16-03-2020   \n",
      "1      3800       48752         UK  16-03-2020   \n",
      "2      3801       48753  Vagabonds  16-03-2020   \n",
      "3      3802       48754        NaN  16-03-2020   \n",
      "4      3803       48755        NaN  16-03-2020   \n",
      "\n",
      "                                       OriginalTweet           Sentiment  \n",
      "0  @MeNyrbie @Phil_Gahan @Chrisitv https://t.co/i...             Neutral  \n",
      "1  advice Talk to your neighbours family to excha...            Positive  \n",
      "2  Coronavirus Australia: Woolworths to give elde...            Positive  \n",
      "3  My food stock is not the only one which is emp...            Positive  \n",
      "4  Me, ready to go at supermarket during the #COV...  Extremely Negative  \n",
      "   UserName  ScreenName             Location     TweetAt  \\\n",
      "0         1       44953                  NYC  02-03-2020   \n",
      "1         2       44954          Seattle, WA  02-03-2020   \n",
      "2         3       44955                  NaN  02-03-2020   \n",
      "3         4       44956          Chicagoland  02-03-2020   \n",
      "4         5       44957  Melbourne, Victoria  03-03-2020   \n",
      "\n",
      "                                       OriginalTweet           Sentiment  \n",
      "0  TRENDING: New Yorkers encounter empty supermar...  Extremely Negative  \n",
      "1  When I couldn't find hand sanitizer at Fred Me...            Positive  \n",
      "2  Find out how you can protect yourself and love...  Extremely Positive  \n",
      "3  #Panic buying hits #NewYork City as anxious sh...            Negative  \n",
      "4  #toiletpaper #dunnypaper #coronavirus #coronav...             Neutral  \n"
     ]
    }
   ],
   "source": [
    "train_dataset = pd.read_csv('../input/covid-19-nlp-text-classification/Corona_NLP_train.csv', encoding=\"ISO-8859-1\")\n",
    "test_dataset = pd.read_csv('../input/covid-19-nlp-text-classification/Corona_NLP_test.csv', encoding=\"ISO-8859-1\")\n",
    "\n",
    "print(train_dataset.head())\n",
    "print(test_dataset.head())"
   ]
  },
  {
   "cell_type": "markdown",
   "id": "3d9b1af9",
   "metadata": {
    "papermill": {
     "duration": 0.02395,
     "end_time": "2022-02-04T20:38:19.684254",
     "exception": false,
     "start_time": "2022-02-04T20:38:19.660304",
     "status": "completed"
    },
    "tags": []
   },
   "source": [
    "**Since we only need the original tweet and the sentiment for the classification, we will drop other column**"
   ]
  },
  {
   "cell_type": "code",
   "execution_count": 3,
   "id": "e4fac9a7",
   "metadata": {
    "execution": {
     "iopub.execute_input": "2022-02-04T20:38:19.741281Z",
     "iopub.status.busy": "2022-02-04T20:38:19.740460Z",
     "iopub.status.idle": "2022-02-04T20:38:19.748145Z",
     "shell.execute_reply": "2022-02-04T20:38:19.747705Z",
     "shell.execute_reply.started": "2022-02-04T18:25:00.816000Z"
    },
    "papermill": {
     "duration": 0.040123,
     "end_time": "2022-02-04T20:38:19.748262",
     "exception": false,
     "start_time": "2022-02-04T20:38:19.708139",
     "status": "completed"
    },
    "tags": []
   },
   "outputs": [],
   "source": [
    "train_dataset = train_dataset[['OriginalTweet','Sentiment']]\n",
    "test_dataset = test_dataset[['OriginalTweet','Sentiment']]"
   ]
  },
  {
   "cell_type": "markdown",
   "id": "cb049563",
   "metadata": {
    "papermill": {
     "duration": 0.023729,
     "end_time": "2022-02-04T20:38:19.796291",
     "exception": false,
     "start_time": "2022-02-04T20:38:19.772562",
     "status": "completed"
    },
    "tags": []
   },
   "source": [
    "# Creating Function for Cleaning/Preprocessing\n",
    "\n",
    "Since there are so many things in the tweet that could create noise, i tried to clean the data using some preprocessing. List of the preprocessing that has been done to the dataset could be seen below:\n",
    "* Removing links such as https://.... , http://.... , etc\n",
    "* Removing hashtags \n",
    "* Removing user mention\n",
    "* Removing unnecessary character (non alphanumeric except aposthrope)\n",
    "* Removing extra whitespace\n",
    "* Removing emoji unicode such as \\xF0\\x9F\\x98\\x81, \\xF0\\x9F\\x98\\x82, etc\n",
    "* Lastly, Removing leading and trailing space\n",
    "\n",
    "In the cleaning step i used regex which is a set of characters that specify a pattern in a text\n",
    "detail for each line of code/regex could be seen in the comment below"
   ]
  },
  {
   "cell_type": "code",
   "execution_count": 4,
   "id": "a8327c4d",
   "metadata": {
    "execution": {
     "iopub.execute_input": "2022-02-04T20:38:19.851349Z",
     "iopub.status.busy": "2022-02-04T20:38:19.847911Z",
     "iopub.status.idle": "2022-02-04T20:38:19.853647Z",
     "shell.execute_reply": "2022-02-04T20:38:19.853228Z",
     "shell.execute_reply.started": "2022-02-04T18:25:00.832333Z"
    },
    "papermill": {
     "duration": 0.033316,
     "end_time": "2022-02-04T20:38:19.853758",
     "exception": false,
     "start_time": "2022-02-04T20:38:19.820442",
     "status": "completed"
    },
    "tags": []
   },
   "outputs": [],
   "source": [
    "def cleaner(tweet):\n",
    "    # remove links\n",
    "    tweet = \"\".join(re.sub(\"(\\w+:\\/\\/\\S+)\",\" \", tweet))\n",
    "    \n",
    "    # remove hashtags\n",
    "    tweet = \"\".join(re.sub(\"(#[A-Za-z0-9_]+)\",\" \", tweet))\n",
    "    \n",
    "    # remove user mention\n",
    "    tweet = \"\".join(re.sub(\"(@[A-Za-z0-9_]+)\",\" \", tweet))\n",
    "    \n",
    "    # remove none alphanumeric and aposthrope\n",
    "    tweet = \"\".join(re.sub(\"([^0-9A-Za-z \\t'])\",\" \", tweet))\n",
    "    \n",
    "    # remove extra whitespace\n",
    "    tweet = \" \".join(tweet.split())\n",
    "    \n",
    "    # remove emoji unicode \n",
    "    tweet = \"\".join(c for c in tweet if c not in emoji.UNICODE_EMOJI) #Remove Emojis\n",
    "    \n",
    "    # remove leading and trailing space\n",
    "    tweet = tweet.strip()\n",
    "    return tweet"
   ]
  },
  {
   "cell_type": "markdown",
   "id": "880641f9",
   "metadata": {
    "papermill": {
     "duration": 0.024413,
     "end_time": "2022-02-04T20:38:19.902335",
     "exception": false,
     "start_time": "2022-02-04T20:38:19.877922",
     "status": "completed"
    },
    "tags": []
   },
   "source": [
    "**Applying cleaning process for all tweet both in train_dataset and test_dataset**"
   ]
  },
  {
   "cell_type": "code",
   "execution_count": 5,
   "id": "f198a877",
   "metadata": {
    "execution": {
     "iopub.execute_input": "2022-02-04T20:38:19.957424Z",
     "iopub.status.busy": "2022-02-04T20:38:19.956596Z",
     "iopub.status.idle": "2022-02-04T20:38:23.049811Z",
     "shell.execute_reply": "2022-02-04T20:38:23.049179Z",
     "shell.execute_reply.started": "2022-02-04T18:25:03.822586Z"
    },
    "papermill": {
     "duration": 3.123653,
     "end_time": "2022-02-04T20:38:23.049948",
     "exception": false,
     "start_time": "2022-02-04T20:38:19.926295",
     "status": "completed"
    },
    "tags": []
   },
   "outputs": [
    {
     "name": "stdout",
     "output_type": "stream",
     "text": [
      "                                       OriginalTweet           Sentiment\n",
      "0                                            and and             Neutral\n",
      "1  advice Talk to your neighbours family to excha...            Positive\n",
      "2  Coronavirus Australia Woolworths to give elder...            Positive\n",
      "3  My food stock is not the only one which is emp...            Positive\n",
      "4  Me ready to go at supermarket during the outbr...  Extremely Negative\n",
      "                                       OriginalTweet           Sentiment\n",
      "0  TRENDING New Yorkers encounter empty supermark...  Extremely Negative\n",
      "1  When I couldn't find hand sanitizer at Fred Me...            Positive\n",
      "2  Find out how you can protect yourself and love...  Extremely Positive\n",
      "3  buying hits City as anxious shoppers stock up ...            Negative\n",
      "4  One week everyone buying baby milk powder the ...             Neutral\n"
     ]
    }
   ],
   "source": [
    "train_dataset['OriginalTweet'] = train_dataset['OriginalTweet'].apply(lambda x: cleaner(x))\n",
    "test_dataset['OriginalTweet'] = test_dataset['OriginalTweet'].apply(lambda x: cleaner(x))\n",
    "print(train_dataset.head())\n",
    "print(test_dataset.head())"
   ]
  },
  {
   "cell_type": "markdown",
   "id": "319a13e0",
   "metadata": {
    "papermill": {
     "duration": 0.026651,
     "end_time": "2022-02-04T20:38:23.103992",
     "exception": false,
     "start_time": "2022-02-04T20:38:23.077341",
     "status": "completed"
    },
    "tags": []
   },
   "source": [
    "**Removing Tweet that are less than or equal to 5 words**\n",
    "\n",
    "Since i did some cleaning to the dataset, there is a possibility that after the cleaning is done there will be a tweet with small count of word. Therefore, i decided to drop these rows since it might not contains any information."
   ]
  },
  {
   "cell_type": "code",
   "execution_count": 6,
   "id": "c41c8a38",
   "metadata": {
    "execution": {
     "iopub.execute_input": "2022-02-04T20:38:23.175849Z",
     "iopub.status.busy": "2022-02-04T20:38:23.174871Z",
     "iopub.status.idle": "2022-02-04T20:38:23.264964Z",
     "shell.execute_reply": "2022-02-04T20:38:23.264567Z",
     "shell.execute_reply.started": "2022-02-04T18:25:07.158944Z"
    },
    "papermill": {
     "duration": 0.128349,
     "end_time": "2022-02-04T20:38:23.265106",
     "exception": false,
     "start_time": "2022-02-04T20:38:23.136757",
     "status": "completed"
    },
    "tags": []
   },
   "outputs": [
    {
     "name": "stdout",
     "output_type": "stream",
     "text": [
      "                                       OriginalTweet           Sentiment\n",
      "1  advice Talk to your neighbours family to excha...            Positive\n",
      "2  Coronavirus Australia Woolworths to give elder...            Positive\n",
      "3  My food stock is not the only one which is emp...            Positive\n",
      "4  Me ready to go at supermarket during the outbr...  Extremely Negative\n",
      "5  As news of the region s first confirmed COVID ...            Positive\n",
      "                                       OriginalTweet           Sentiment\n",
      "0  TRENDING New Yorkers encounter empty supermark...  Extremely Negative\n",
      "1  When I couldn't find hand sanitizer at Fred Me...            Positive\n",
      "2  Find out how you can protect yourself and love...  Extremely Positive\n",
      "3  buying hits City as anxious shoppers stock up ...            Negative\n",
      "4  One week everyone buying baby milk powder the ...             Neutral\n"
     ]
    }
   ],
   "source": [
    "train_dataset = train_dataset[train_dataset['OriginalTweet'].apply(lambda x: len(x.split()) > 5)]\n",
    "test_dataset = test_dataset[test_dataset['OriginalTweet'].apply(lambda x: len(x.split()) > 5)]\n",
    "print(train_dataset.head())\n",
    "print(test_dataset.head())"
   ]
  },
  {
   "cell_type": "markdown",
   "id": "0eedfa4e",
   "metadata": {
    "papermill": {
     "duration": 0.03281,
     "end_time": "2022-02-04T20:38:23.322416",
     "exception": false,
     "start_time": "2022-02-04T20:38:23.289606",
     "status": "completed"
    },
    "tags": []
   },
   "source": [
    "**After i work with the tweets, next i convert the label from the dataset into integer**\n",
    "\n",
    "The converted label will be\n",
    "* 0: Extremely Negative\n",
    "* 1: Negative\n",
    "* 2: Neutral\n",
    "* 3: Positive\n",
    "* 4: Extremely Positive"
   ]
  },
  {
   "cell_type": "code",
   "execution_count": 7,
   "id": "f8cf02e1",
   "metadata": {
    "execution": {
     "iopub.execute_input": "2022-02-04T20:38:23.432912Z",
     "iopub.status.busy": "2022-02-04T20:38:23.432119Z",
     "iopub.status.idle": "2022-02-04T20:38:23.448241Z",
     "shell.execute_reply": "2022-02-04T20:38:23.447455Z",
     "shell.execute_reply.started": "2022-02-04T18:25:07.254389Z"
    },
    "papermill": {
     "duration": 0.083295,
     "end_time": "2022-02-04T20:38:23.448419",
     "exception": false,
     "start_time": "2022-02-04T20:38:23.365124",
     "status": "completed"
    },
    "tags": []
   },
   "outputs": [],
   "source": [
    "train_dataset['Sentiment'] = train_dataset['Sentiment'].map(\\\n",
    "             {'Extremely Negative':0,'Negative':1,'Neutral':2,'Positive':3,'Extremely Positive':4})\n",
    "test_dataset['Sentiment'] = test_dataset['Sentiment'].map(\\\n",
    "            {'Extremely Negative':0,'Negative':1,'Neutral':2,'Positive':3,'Extremely Positive':4})"
   ]
  },
  {
   "cell_type": "code",
   "execution_count": 8,
   "id": "a5f0c1d1",
   "metadata": {
    "execution": {
     "iopub.execute_input": "2022-02-04T20:38:23.540656Z",
     "iopub.status.busy": "2022-02-04T20:38:23.538718Z",
     "iopub.status.idle": "2022-02-04T20:38:23.555619Z",
     "shell.execute_reply": "2022-02-04T20:38:23.554780Z",
     "shell.execute_reply.started": "2022-02-04T18:25:07.269756Z"
    },
    "papermill": {
     "duration": 0.067824,
     "end_time": "2022-02-04T20:38:23.555777",
     "exception": false,
     "start_time": "2022-02-04T20:38:23.487953",
     "status": "completed"
    },
    "tags": []
   },
   "outputs": [
    {
     "data": {
      "text/plain": [
       "3    11243\n",
       "1     9793\n",
       "2     7208\n",
       "4     6608\n",
       "0     5460\n",
       "Name: Sentiment, dtype: int64"
      ]
     },
     "execution_count": 8,
     "metadata": {},
     "output_type": "execute_result"
    }
   ],
   "source": [
    "train_dataset['Sentiment'].value_counts()"
   ]
  },
  {
   "cell_type": "markdown",
   "id": "06bfcfee",
   "metadata": {
    "papermill": {
     "duration": 0.041217,
     "end_time": "2022-02-04T20:38:23.637399",
     "exception": false,
     "start_time": "2022-02-04T20:38:23.596182",
     "status": "completed"
    },
    "tags": []
   },
   "source": [
    "# Splitting Train Dataset into train dataset and validation dataset\n",
    "\n",
    "Since the dataset given already contains test data which have around 3800 tweets and its label. I splitted the train data to get validation dataset, I splitted the data with 90% for training and 10% validation. I choose 10% since the amount of validation data will be similar with the test data."
   ]
  },
  {
   "cell_type": "code",
   "execution_count": 9,
   "id": "47c2a969",
   "metadata": {
    "execution": {
     "iopub.execute_input": "2022-02-04T20:38:23.726962Z",
     "iopub.status.busy": "2022-02-04T20:38:23.726147Z",
     "iopub.status.idle": "2022-02-04T20:38:23.756979Z",
     "shell.execute_reply": "2022-02-04T20:38:23.757799Z",
     "shell.execute_reply.started": "2022-02-04T18:25:07.284713Z"
    },
    "papermill": {
     "duration": 0.079339,
     "end_time": "2022-02-04T20:38:23.757996",
     "exception": false,
     "start_time": "2022-02-04T20:38:23.678657",
     "status": "completed"
    },
    "tags": []
   },
   "outputs": [
    {
     "name": "stdout",
     "output_type": "stream",
     "text": [
      "Train Count: 36280\n",
      "Validation Count: 4032\n",
      "Test Count: 3755\n"
     ]
    }
   ],
   "source": [
    "x_train = train_dataset['OriginalTweet'].values\n",
    "y_train = train_dataset['Sentiment'].values\n",
    "x_train, x_valid, y_train, y_valid = train_test_split(x_train, y_train, test_size=0.1, stratify=y_train, random_state=43)\n",
    "x_test = test_dataset['OriginalTweet'].values\n",
    "y_test = test_dataset['Sentiment'].values\n",
    "\n",
    "print(f\"Train Count: {x_train.shape[0]}\\nValidation Count: {x_valid.shape[0]}\\nTest Count: {x_test.shape[0]}\" )"
   ]
  },
  {
   "cell_type": "markdown",
   "id": "781c02eb",
   "metadata": {
    "papermill": {
     "duration": 0.041035,
     "end_time": "2022-02-04T20:38:23.840962",
     "exception": false,
     "start_time": "2022-02-04T20:38:23.799927",
     "status": "completed"
    },
    "tags": []
   },
   "source": [
    "**Converting labels into onehot representation**\n",
    "\n",
    "This is done because there are more than 2 class of data. If we don't use one hot encoding the prediction later will be between 2 class, therefore i used one hot encoding so later on the prediction of the model will be the probability for each 1 from 5 class and not only between 2 classes."
   ]
  },
  {
   "cell_type": "code",
   "execution_count": 10,
   "id": "88926916",
   "metadata": {
    "execution": {
     "iopub.execute_input": "2022-02-04T20:38:23.928852Z",
     "iopub.status.busy": "2022-02-04T20:38:23.927987Z",
     "iopub.status.idle": "2022-02-04T20:38:23.937516Z",
     "shell.execute_reply": "2022-02-04T20:38:23.937085Z",
     "shell.execute_reply.started": "2022-02-04T18:25:07.311508Z"
    },
    "papermill": {
     "duration": 0.055328,
     "end_time": "2022-02-04T20:38:23.937628",
     "exception": false,
     "start_time": "2022-02-04T20:38:23.882300",
     "status": "completed"
    },
    "tags": []
   },
   "outputs": [
    {
     "name": "stdout",
     "output_type": "stream",
     "text": [
      "(36280, 5)\n",
      "(4032, 5)\n",
      "(3755, 5)\n"
     ]
    }
   ],
   "source": [
    "ohe = preprocessing.OneHotEncoder()\n",
    "y_train = ohe.fit_transform(np.array(y_train).reshape(-1, 1)).toarray()\n",
    "y_valid = ohe.fit_transform(np.array(y_valid).reshape(-1, 1)).toarray()\n",
    "y_test = ohe.fit_transform(np.array(y_test).reshape(-1, 1)).toarray()\n",
    "\n",
    "print(y_train.shape)\n",
    "print(y_valid.shape)\n",
    "print(y_test.shape)"
   ]
  },
  {
   "cell_type": "markdown",
   "id": "7bfe18a8",
   "metadata": {
    "papermill": {
     "duration": 0.025421,
     "end_time": "2022-02-04T20:38:23.989688",
     "exception": false,
     "start_time": "2022-02-04T20:38:23.964267",
     "status": "completed"
    },
    "tags": []
   },
   "source": [
    "# BertTokenizer\n",
    "\n",
    "In NLP, tokenizer is used to break down a whole sentence into word (sentence to word) and this could be done just by splitting the string. \n",
    "\n",
    "In BERT, before a sentence is fed into the network, each sentence will go through some step called BertTokenizer. \n",
    "1. Each sentence will be tokenized using an algorithm called wordpiece tokenizer. The difference between this algorithm with the usual one is not only each sentence will be splitted into a number of word. Each word later on will be splitted into a number of subword. This is done because of the limitation of vocabulary in the pretrained model, usually unknown vocabulary will be converted into [UNK] token / unknown. If there are many unknown token in the dataset, this will create an information loss. As an example: I am sleeping, in the regular tokenizer the word sleeping will stay as it is, but in the wordpiece algorithm, the word sleeping will be splitted into \"sleep\" and \"##ing\" which is more commonly seen in the vocabulary. \n",
    "2. Adding [CLS] in front of the string which means start of string\n",
    "3. Adding [SEP] at the end of the string which means the end of the string\n",
    "4. Adding [PAD] this is done if the string length is less than max length given in the input. Because the model only receive input with same length\n",
    "5. Lastly, convert all token into corresponding ids."
   ]
  },
  {
   "cell_type": "code",
   "execution_count": 11,
   "id": "3a96893b",
   "metadata": {
    "execution": {
     "iopub.execute_input": "2022-02-04T20:38:24.045426Z",
     "iopub.status.busy": "2022-02-04T20:38:24.044642Z",
     "iopub.status.idle": "2022-02-04T20:38:25.453551Z",
     "shell.execute_reply": "2022-02-04T20:38:25.453934Z",
     "shell.execute_reply.started": "2022-02-04T18:25:07.326782Z"
    },
    "papermill": {
     "duration": 1.438738,
     "end_time": "2022-02-04T20:38:25.454106",
     "exception": false,
     "start_time": "2022-02-04T20:38:24.015368",
     "status": "completed"
    },
    "tags": []
   },
   "outputs": [
    {
     "data": {
      "application/vnd.jupyter.widget-view+json": {
       "model_id": "3c06cc36e71b4d36be4ccb6f0111ee0b",
       "version_major": 2,
       "version_minor": 0
      },
      "text/plain": [
       "Downloading:   0%|          | 0.00/226k [00:00<?, ?B/s]"
      ]
     },
     "metadata": {},
     "output_type": "display_data"
    },
    {
     "data": {
      "application/vnd.jupyter.widget-view+json": {
       "model_id": "dc681a3e8f86457ca454f6358fd20c75",
       "version_major": 2,
       "version_minor": 0
      },
      "text/plain": [
       "Downloading:   0%|          | 0.00/455k [00:00<?, ?B/s]"
      ]
     },
     "metadata": {},
     "output_type": "display_data"
    },
    {
     "data": {
      "application/vnd.jupyter.widget-view+json": {
       "model_id": "abb4ed0b941b4237be7cf5887f051fe6",
       "version_major": 2,
       "version_minor": 0
      },
      "text/plain": [
       "Downloading:   0%|          | 0.00/28.0 [00:00<?, ?B/s]"
      ]
     },
     "metadata": {},
     "output_type": "display_data"
    },
    {
     "data": {
      "application/vnd.jupyter.widget-view+json": {
       "model_id": "c5785991489844bda6447da27c172fe3",
       "version_major": 2,
       "version_minor": 0
      },
      "text/plain": [
       "Downloading:   0%|          | 0.00/570 [00:00<?, ?B/s]"
      ]
     },
     "metadata": {},
     "output_type": "display_data"
    }
   ],
   "source": [
    "tokenizer = BertTokenizerFast.from_pretrained('bert-base-uncased')"
   ]
  },
  {
   "cell_type": "markdown",
   "id": "258387c8",
   "metadata": {
    "papermill": {
     "duration": 0.027194,
     "end_time": "2022-02-04T20:38:25.509428",
     "exception": false,
     "start_time": "2022-02-04T20:38:25.482234",
     "status": "completed"
    },
    "tags": []
   },
   "source": [
    "**Defining Function to bert_tokenize all tweet in the dataset**"
   ]
  },
  {
   "cell_type": "code",
   "execution_count": 12,
   "id": "37e1226b",
   "metadata": {
    "execution": {
     "iopub.execute_input": "2022-02-04T20:38:25.571653Z",
     "iopub.status.busy": "2022-02-04T20:38:25.570748Z",
     "iopub.status.idle": "2022-02-04T20:38:25.572764Z",
     "shell.execute_reply": "2022-02-04T20:38:25.573183Z",
     "shell.execute_reply.started": "2022-02-04T18:25:08.744869Z"
    },
    "papermill": {
     "duration": 0.036319,
     "end_time": "2022-02-04T20:38:25.573318",
     "exception": false,
     "start_time": "2022-02-04T20:38:25.536999",
     "status": "completed"
    },
    "tags": []
   },
   "outputs": [],
   "source": [
    "MAX_LEN=128\n",
    "\n",
    "def bert_tokenize(data,max_len=MAX_LEN) :\n",
    "    input_ids = []\n",
    "    attention_masks = []\n",
    "    for tweet in data:\n",
    "        encoded = tokenizer.encode_plus(\n",
    "            tweet,\n",
    "            add_special_tokens=True,\n",
    "            max_length=MAX_LEN,\n",
    "            padding='max_length',\n",
    "            return_attention_mask=True\n",
    "        )\n",
    "        input_ids.append(encoded['input_ids'])\n",
    "        attention_masks.append(encoded['attention_mask'])\n",
    "    return np.array(input_ids),np.array(attention_masks)"
   ]
  },
  {
   "cell_type": "markdown",
   "id": "5d1d583e",
   "metadata": {
    "papermill": {
     "duration": 0.027218,
     "end_time": "2022-02-04T20:38:25.627495",
     "exception": false,
     "start_time": "2022-02-04T20:38:25.600277",
     "status": "completed"
    },
    "tags": []
   },
   "source": [
    "**BertTokenize all of the dataset (train, validation, test)**\n",
    "\n",
    "I used 128 as the max_len since its is close to the maximum word count in one tweet from this dataset."
   ]
  },
  {
   "cell_type": "code",
   "execution_count": 13,
   "id": "124716e9",
   "metadata": {
    "execution": {
     "iopub.execute_input": "2022-02-04T20:38:25.687356Z",
     "iopub.status.busy": "2022-02-04T20:38:25.686552Z",
     "iopub.status.idle": "2022-02-04T20:38:36.416480Z",
     "shell.execute_reply": "2022-02-04T20:38:36.415959Z",
     "shell.execute_reply.started": "2022-02-04T18:25:08.752037Z"
    },
    "papermill": {
     "duration": 10.761854,
     "end_time": "2022-02-04T20:38:36.416620",
     "exception": false,
     "start_time": "2022-02-04T20:38:25.654766",
     "status": "completed"
    },
    "tags": []
   },
   "outputs": [],
   "source": [
    "train_input_ids, train_attention_masks = bert_tokenize(x_train, MAX_LEN)\n",
    "val_input_ids, val_attention_masks = bert_tokenize(x_valid, MAX_LEN)\n",
    "test_input_ids, test_attention_masks = bert_tokenize(x_test, MAX_LEN)"
   ]
  },
  {
   "cell_type": "markdown",
   "id": "71ec35b5",
   "metadata": {
    "papermill": {
     "duration": 0.026882,
     "end_time": "2022-02-04T20:38:36.471213",
     "exception": false,
     "start_time": "2022-02-04T20:38:36.444331",
     "status": "completed"
    },
    "tags": []
   },
   "source": [
    "# **4. B. Develop the classifier and Train the model**\n",
    "\n",
    "# Network Architecture"
   ]
  },
  {
   "cell_type": "markdown",
   "id": "cd2d2695",
   "metadata": {
    "papermill": {
     "duration": 0.027091,
     "end_time": "2022-02-04T20:38:36.525509",
     "exception": false,
     "start_time": "2022-02-04T20:38:36.498418",
     "status": "completed"
    },
    "tags": []
   },
   "source": [
    "**Defining Bert Model that will be used as the encoder**\n",
    "\n",
    "i used bert-base-uncased since it is smaller compared to the large one and will be faster to train."
   ]
  },
  {
   "cell_type": "code",
   "execution_count": 14,
   "id": "0b90b613",
   "metadata": {
    "execution": {
     "iopub.execute_input": "2022-02-04T20:38:36.587572Z",
     "iopub.status.busy": "2022-02-04T20:38:36.587001Z",
     "iopub.status.idle": "2022-02-04T20:38:57.556510Z",
     "shell.execute_reply": "2022-02-04T20:38:57.556894Z",
     "shell.execute_reply.started": "2022-02-04T18:25:19.299546Z"
    },
    "papermill": {
     "duration": 21.004243,
     "end_time": "2022-02-04T20:38:57.557044",
     "exception": false,
     "start_time": "2022-02-04T20:38:36.552801",
     "status": "completed"
    },
    "tags": []
   },
   "outputs": [
    {
     "data": {
      "application/vnd.jupyter.widget-view+json": {
       "model_id": "601fa296d5d6468e896434533ccb36f1",
       "version_major": 2,
       "version_minor": 0
      },
      "text/plain": [
       "Downloading:   0%|          | 0.00/511M [00:00<?, ?B/s]"
      ]
     },
     "metadata": {},
     "output_type": "display_data"
    },
    {
     "name": "stderr",
     "output_type": "stream",
     "text": [
      "2022-02-04 20:38:50.707330: I tensorflow/stream_executor/cuda/cuda_gpu_executor.cc:937] successful NUMA node read from SysFS had negative value (-1), but there must be at least one NUMA node, so returning NUMA node zero\n",
      "2022-02-04 20:38:50.708366: I tensorflow/stream_executor/cuda/cuda_gpu_executor.cc:937] successful NUMA node read from SysFS had negative value (-1), but there must be at least one NUMA node, so returning NUMA node zero\n",
      "2022-02-04 20:38:50.709029: I tensorflow/stream_executor/cuda/cuda_gpu_executor.cc:937] successful NUMA node read from SysFS had negative value (-1), but there must be at least one NUMA node, so returning NUMA node zero\n",
      "2022-02-04 20:38:50.709912: I tensorflow/core/platform/cpu_feature_guard.cc:142] This TensorFlow binary is optimized with oneAPI Deep Neural Network Library (oneDNN) to use the following CPU instructions in performance-critical operations:  AVX2 AVX512F FMA\n",
      "To enable them in other operations, rebuild TensorFlow with the appropriate compiler flags.\n",
      "2022-02-04 20:38:50.711094: I tensorflow/stream_executor/cuda/cuda_gpu_executor.cc:937] successful NUMA node read from SysFS had negative value (-1), but there must be at least one NUMA node, so returning NUMA node zero\n",
      "2022-02-04 20:38:50.711803: I tensorflow/stream_executor/cuda/cuda_gpu_executor.cc:937] successful NUMA node read from SysFS had negative value (-1), but there must be at least one NUMA node, so returning NUMA node zero\n",
      "2022-02-04 20:38:50.712501: I tensorflow/stream_executor/cuda/cuda_gpu_executor.cc:937] successful NUMA node read from SysFS had negative value (-1), but there must be at least one NUMA node, so returning NUMA node zero\n",
      "2022-02-04 20:38:55.203922: I tensorflow/stream_executor/cuda/cuda_gpu_executor.cc:937] successful NUMA node read from SysFS had negative value (-1), but there must be at least one NUMA node, so returning NUMA node zero\n",
      "2022-02-04 20:38:55.204915: I tensorflow/stream_executor/cuda/cuda_gpu_executor.cc:937] successful NUMA node read from SysFS had negative value (-1), but there must be at least one NUMA node, so returning NUMA node zero\n",
      "2022-02-04 20:38:55.205622: I tensorflow/stream_executor/cuda/cuda_gpu_executor.cc:937] successful NUMA node read from SysFS had negative value (-1), but there must be at least one NUMA node, so returning NUMA node zero\n",
      "2022-02-04 20:38:55.206205: I tensorflow/core/common_runtime/gpu/gpu_device.cc:1510] Created device /job:localhost/replica:0/task:0/device:GPU:0 with 14959 MB memory:  -> device: 0, name: Tesla P100-PCIE-16GB, pci bus id: 0000:00:04.0, compute capability: 6.0\n",
      "Some layers from the model checkpoint at bert-base-uncased were not used when initializing TFBertModel: ['mlm___cls', 'nsp___cls']\n",
      "- This IS expected if you are initializing TFBertModel from the checkpoint of a model trained on another task or with another architecture (e.g. initializing a BertForSequenceClassification model from a BertForPreTraining model).\n",
      "- This IS NOT expected if you are initializing TFBertModel from the checkpoint of a model that you expect to be exactly identical (initializing a BertForSequenceClassification model from a BertForSequenceClassification model).\n",
      "All the layers of TFBertModel were initialized from the model checkpoint at bert-base-uncased.\n",
      "If your task is similar to the task the model of the checkpoint was trained on, you can already use TFBertModel for predictions without further training.\n"
     ]
    }
   ],
   "source": [
    "bert_model = TFBertModel.from_pretrained('bert-base-uncased')"
   ]
  },
  {
   "cell_type": "markdown",
   "id": "e4f9fbe2",
   "metadata": {
    "papermill": {
     "duration": 0.027923,
     "end_time": "2022-02-04T20:38:57.613473",
     "exception": false,
     "start_time": "2022-02-04T20:38:57.585550",
     "status": "completed"
    },
    "tags": []
   },
   "source": [
    "# Defining Function to create the model\n",
    "\n",
    "<a href=\"https://arxiv.org/pdf/1810.04805.pdf\"> Paper </a>\n",
    "\n",
    "    \n",
    "In the model is used Adam Optimizer which is used by the creator of the pretrained model, using learning rate of 2e-5 which is recommended by the paper (5e-5, 4e-5, 3e-5, 2e-5). The loss function that will be used is CategoricalCrossentropy since the task is multiclass classification (one prediction from 5 class). The accuracy metrics that i used is CategoricalAccuracy since the output will be vector of [5,1].\n",
    "\n",
    "The model will be:\n",
    "Input (id and mask) -> Bert -> dropout layer (0,2 dropout to reduce overfitting) -> Output (Dense with Softmax function which is recommended for multiclass classification)"
   ]
  },
  {
   "cell_type": "code",
   "execution_count": 15,
   "id": "8837211a",
   "metadata": {
    "execution": {
     "iopub.execute_input": "2022-02-04T20:38:57.673691Z",
     "iopub.status.busy": "2022-02-04T20:38:57.672903Z",
     "iopub.status.idle": "2022-02-04T20:38:57.681132Z",
     "shell.execute_reply": "2022-02-04T20:38:57.680171Z",
     "shell.execute_reply.started": "2022-02-04T18:25:40.591427Z"
    },
    "papermill": {
     "duration": 0.039474,
     "end_time": "2022-02-04T20:38:57.681249",
     "exception": false,
     "start_time": "2022-02-04T20:38:57.641775",
     "status": "completed"
    },
    "tags": []
   },
   "outputs": [],
   "source": [
    "def create_model(bert_model, max_len=MAX_LEN):\n",
    "    \n",
    "    # parameter\n",
    "    optimizer = tf.keras.optimizers.Adam(learning_rate=2e-5)\n",
    "    loss = tf.keras.losses.CategoricalCrossentropy()\n",
    "    accuracy = tf.keras.metrics.CategoricalAccuracy()\n",
    "\n",
    "    input_ids = tf.keras.Input(shape=(max_len,),dtype='int32')\n",
    "    attention_masks = tf.keras.Input(shape=(max_len,),dtype='int32')\n",
    "    \n",
    "    bert = bert_model([input_ids,attention_masks])[1]\n",
    "    dropout = tf.keras.layers.Dropout(0.2)(bert)\n",
    "    output = tf.keras.layers.Dense(5, activation=\"softmax\")(dropout)\n",
    "    \n",
    "    model = tf.keras.models.Model(inputs = [input_ids,attention_masks], outputs = output)\n",
    "    model.compile(optimizer, loss=loss, metrics=accuracy)\n",
    "    \n",
    "    return model"
   ]
  },
  {
   "cell_type": "markdown",
   "id": "131412c1",
   "metadata": {
    "papermill": {
     "duration": 0.028184,
     "end_time": "2022-02-04T20:38:57.737710",
     "exception": false,
     "start_time": "2022-02-04T20:38:57.709526",
     "status": "completed"
    },
    "tags": []
   },
   "source": [
    "**Creating the model and showing the model summary**"
   ]
  },
  {
   "cell_type": "code",
   "execution_count": 16,
   "id": "5d8e0afe",
   "metadata": {
    "execution": {
     "iopub.execute_input": "2022-02-04T20:38:57.801769Z",
     "iopub.status.busy": "2022-02-04T20:38:57.800949Z",
     "iopub.status.idle": "2022-02-04T20:39:04.287260Z",
     "shell.execute_reply": "2022-02-04T20:39:04.286552Z",
     "shell.execute_reply.started": "2022-02-04T18:25:40.601202Z"
    },
    "papermill": {
     "duration": 6.521009,
     "end_time": "2022-02-04T20:39:04.287390",
     "exception": false,
     "start_time": "2022-02-04T20:38:57.766381",
     "status": "completed"
    },
    "tags": []
   },
   "outputs": [
    {
     "name": "stdout",
     "output_type": "stream",
     "text": [
      "Model: \"model\"\n",
      "__________________________________________________________________________________________________\n",
      "Layer (type)                    Output Shape         Param #     Connected to                     \n",
      "==================================================================================================\n",
      "input_1 (InputLayer)            [(None, 128)]        0                                            \n",
      "__________________________________________________________________________________________________\n",
      "input_2 (InputLayer)            [(None, 128)]        0                                            \n",
      "__________________________________________________________________________________________________\n",
      "tf_bert_model (TFBertModel)     TFBaseModelOutputWit 109482240   input_1[0][0]                    \n",
      "                                                                 input_2[0][0]                    \n",
      "__________________________________________________________________________________________________\n",
      "dropout_37 (Dropout)            (None, 768)          0           tf_bert_model[0][1]              \n",
      "__________________________________________________________________________________________________\n",
      "dense (Dense)                   (None, 5)            3845        dropout_37[0][0]                 \n",
      "==================================================================================================\n",
      "Total params: 109,486,085\n",
      "Trainable params: 109,486,085\n",
      "Non-trainable params: 0\n",
      "__________________________________________________________________________________________________\n"
     ]
    }
   ],
   "source": [
    "model = create_model(bert_model, MAX_LEN)\n",
    "model.summary()"
   ]
  },
  {
   "cell_type": "markdown",
   "id": "a8e22fa6",
   "metadata": {
    "papermill": {
     "duration": 0.028777,
     "end_time": "2022-02-04T20:39:04.345044",
     "exception": false,
     "start_time": "2022-02-04T20:39:04.316267",
     "status": "completed"
    },
    "tags": []
   },
   "source": [
    "# Training the architecture\n",
    "\n",
    "I trained the model for 10 loop using batch size of 32 and the epoch with best validation accuracy will be saved."
   ]
  },
  {
   "cell_type": "code",
   "execution_count": 17,
   "id": "2096be3c",
   "metadata": {
    "execution": {
     "iopub.execute_input": "2022-02-04T20:39:04.411046Z",
     "iopub.status.busy": "2022-02-04T20:39:04.410247Z",
     "iopub.status.idle": "2022-02-04T22:11:56.797157Z",
     "shell.execute_reply": "2022-02-04T22:11:56.797556Z",
     "shell.execute_reply.started": "2022-02-04T18:25:46.963162Z"
    },
    "papermill": {
     "duration": 5572.423335,
     "end_time": "2022-02-04T22:11:56.797725",
     "exception": false,
     "start_time": "2022-02-04T20:39:04.374390",
     "status": "completed"
    },
    "tags": []
   },
   "outputs": [
    {
     "name": "stderr",
     "output_type": "stream",
     "text": [
      "2022-02-04 20:39:04.560487: I tensorflow/compiler/mlir/mlir_graph_optimization_pass.cc:185] None of the MLIR Optimization Passes are enabled (registered 2)\n"
     ]
    },
    {
     "name": "stdout",
     "output_type": "stream",
     "text": [
      "Epoch 1/10\n",
      "1134/1134 [==============================] - 571s 490ms/step - loss: 0.8359 - categorical_accuracy: 0.6581 - val_loss: 0.4341 - val_categorical_accuracy: 0.8447\n",
      "Epoch 2/10\n",
      "1134/1134 [==============================] - 555s 489ms/step - loss: 0.3994 - categorical_accuracy: 0.8546 - val_loss: 0.3381 - val_categorical_accuracy: 0.8760\n",
      "Epoch 3/10\n",
      "1134/1134 [==============================] - 552s 487ms/step - loss: 0.2646 - categorical_accuracy: 0.9061 - val_loss: 0.3245 - val_categorical_accuracy: 0.8864\n",
      "Epoch 4/10\n",
      "1134/1134 [==============================] - 553s 488ms/step - loss: 0.1881 - categorical_accuracy: 0.9326 - val_loss: 0.3456 - val_categorical_accuracy: 0.8795\n",
      "Epoch 5/10\n",
      "1134/1134 [==============================] - 554s 488ms/step - loss: 0.1469 - categorical_accuracy: 0.9486 - val_loss: 0.3623 - val_categorical_accuracy: 0.8822\n",
      "Epoch 6/10\n",
      "1134/1134 [==============================] - 556s 490ms/step - loss: 0.1102 - categorical_accuracy: 0.9609 - val_loss: 0.3766 - val_categorical_accuracy: 0.8802\n",
      "Epoch 7/10\n",
      "1134/1134 [==============================] - 554s 489ms/step - loss: 0.0916 - categorical_accuracy: 0.9679 - val_loss: 0.4116 - val_categorical_accuracy: 0.8919\n",
      "Epoch 8/10\n",
      "1134/1134 [==============================] - 554s 488ms/step - loss: 0.0781 - categorical_accuracy: 0.9729 - val_loss: 0.4413 - val_categorical_accuracy: 0.8743\n",
      "Epoch 9/10\n",
      "1134/1134 [==============================] - 554s 489ms/step - loss: 0.0662 - categorical_accuracy: 0.9762 - val_loss: 0.4584 - val_categorical_accuracy: 0.8864\n",
      "Epoch 10/10\n",
      "1134/1134 [==============================] - 554s 489ms/step - loss: 0.0551 - categorical_accuracy: 0.9807 - val_loss: 0.4831 - val_categorical_accuracy: 0.8792\n"
     ]
    }
   ],
   "source": [
    "EPOCHS = 10\n",
    "BATCH_SIZE = 32\n",
    "checkpoint_filepath = '/BERT'\n",
    "model_checkpoint_callback = tf.keras.callbacks.ModelCheckpoint(\n",
    "    filepath=checkpoint_filepath,\n",
    "    save_weights_only=True,\n",
    "    monitor='val_categorical_accuracy',\n",
    "    mode='max',\n",
    "    save_best_only=True)\n",
    "\n",
    "train_history = model.fit([train_input_ids,train_attention_masks], \n",
    "                          y_train, \n",
    "                          validation_data=([val_input_ids,val_attention_masks], y_valid),\n",
    "                          epochs=EPOCHS, \n",
    "                          batch_size=BATCH_SIZE,\n",
    "                          callbacks=[model_checkpoint_callback])"
   ]
  },
  {
   "cell_type": "markdown",
   "id": "09f80cb0",
   "metadata": {
    "papermill": {
     "duration": 3.520435,
     "end_time": "2022-02-04T22:12:03.282048",
     "exception": false,
     "start_time": "2022-02-04T22:11:59.761613",
     "status": "completed"
    },
    "tags": []
   },
   "source": [
    "**Plotting the Training Metrics**\n",
    "\n",
    "From the plot, i could see that the highest training gain is in epoch 1 and epoch 2. After that the accuracy stays between 87%-89%."
   ]
  },
  {
   "cell_type": "code",
   "execution_count": 18,
   "id": "e490f5f8",
   "metadata": {
    "execution": {
     "iopub.execute_input": "2022-02-04T22:12:09.541649Z",
     "iopub.status.busy": "2022-02-04T22:12:09.540788Z",
     "iopub.status.idle": "2022-02-04T22:12:09.751892Z",
     "shell.execute_reply": "2022-02-04T22:12:09.751480Z",
     "shell.execute_reply.started": "2022-02-04T20:03:25.310515Z"
    },
    "papermill": {
     "duration": 3.245462,
     "end_time": "2022-02-04T22:12:09.752009",
     "exception": false,
     "start_time": "2022-02-04T22:12:06.506547",
     "status": "completed"
    },
    "tags": []
   },
   "outputs": [
    {
     "data": {
      "image/png": "[encoded data removed]",
      "text/plain": [
       "<Figure size 432x288 with 1 Axes>"
      ]
     },
     "metadata": {
      "needs_background": "light"
     },
     "output_type": "display_data"
    }
   ],
   "source": [
    "plt.plot(train_history.history['categorical_accuracy'])\n",
    "plt.plot(train_history.history['val_categorical_accuracy'])\n",
    "plt.title('model accuracy')\n",
    "plt.ylabel('accuracy')\n",
    "plt.xlabel('epoch')\n",
    "plt.legend(['train', 'validation'], loc='upper left')\n",
    "plt.show()"
   ]
  },
  {
   "cell_type": "code",
   "execution_count": 19,
   "id": "89b9b630",
   "metadata": {
    "execution": {
     "iopub.execute_input": "2022-02-04T22:12:16.080134Z",
     "iopub.status.busy": "2022-02-04T22:12:16.078081Z",
     "iopub.status.idle": "2022-02-04T22:12:16.233574Z",
     "shell.execute_reply": "2022-02-04T22:12:16.234286Z",
     "shell.execute_reply.started": "2022-02-04T20:03:30.693872Z"
    },
    "papermill": {
     "duration": 3.450674,
     "end_time": "2022-02-04T22:12:16.234438",
     "exception": false,
     "start_time": "2022-02-04T22:12:12.783764",
     "status": "completed"
    },
    "tags": []
   },
   "outputs": [
    {
     "data": {
      "image/png": "[encoded data removed]",
      "text/plain": [
       "<Figure size 432x288 with 1 Axes>"
      ]
     },
     "metadata": {
      "needs_background": "light"
     },
     "output_type": "display_data"
    }
   ],
   "source": [
    "plt.plot(train_history.history['loss'])\n",
    "plt.plot(train_history.history['val_loss'])\n",
    "plt.title('model loss')\n",
    "plt.ylabel('loss')\n",
    "plt.xlabel('epoch')\n",
    "plt.legend(['train', 'validation'], loc='upper left')\n",
    "plt.show()"
   ]
  },
  {
   "cell_type": "markdown",
   "id": "6a03f47e",
   "metadata": {
    "papermill": {
     "duration": 2.981733,
     "end_time": "2022-02-04T22:12:22.249704",
     "exception": false,
     "start_time": "2022-02-04T22:12:19.267971",
     "status": "completed"
    },
    "tags": []
   },
   "source": [
    "# **Performance Analysis**"
   ]
  },
  {
   "cell_type": "code",
   "execution_count": 20,
   "id": "440f998d",
   "metadata": {
    "execution": {
     "iopub.execute_input": "2022-02-04T22:12:28.549210Z",
     "iopub.status.busy": "2022-02-04T22:12:28.548130Z",
     "iopub.status.idle": "2022-02-04T22:12:50.293747Z",
     "shell.execute_reply": "2022-02-04T22:12:50.294529Z",
     "shell.execute_reply.started": "2022-02-04T20:16:17.825548Z"
    },
    "papermill": {
     "duration": 25.068513,
     "end_time": "2022-02-04T22:12:50.294703",
     "exception": false,
     "start_time": "2022-02-04T22:12:25.226190",
     "status": "completed"
    },
    "tags": []
   },
   "outputs": [],
   "source": [
    "# model.load_weights(checkpoint_filepath)\n",
    "\n",
    "y_pred = model.predict([test_input_ids,test_attention_masks])\n",
    "\n",
    "y_pred = np.argmax(y_pred, axis=1)\n",
    "y_test = np.argmax(y_test, axis=1)"
   ]
  },
  {
   "cell_type": "markdown",
   "id": "6d8b80b5",
   "metadata": {
    "papermill": {
     "duration": 3.000987,
     "end_time": "2022-02-04T22:12:56.311840",
     "exception": false,
     "start_time": "2022-02-04T22:12:53.310853",
     "status": "completed"
    },
    "tags": []
   },
   "source": [
    "**The model is evaluated using accuracy score, precision, recall, f1, and Confusion Matrix**"
   ]
  },
  {
   "cell_type": "code",
   "execution_count": 21,
   "id": "54c993c8",
   "metadata": {
    "execution": {
     "iopub.execute_input": "2022-02-04T22:13:02.637825Z",
     "iopub.status.busy": "2022-02-04T22:13:02.636837Z",
     "iopub.status.idle": "2022-02-04T22:13:02.969655Z",
     "shell.execute_reply": "2022-02-04T22:13:02.970572Z",
     "shell.execute_reply.started": "2022-02-04T20:37:06.050724Z"
    },
    "papermill": {
     "duration": 3.55747,
     "end_time": "2022-02-04T22:13:02.970730",
     "exception": false,
     "start_time": "2022-02-04T22:12:59.413260",
     "status": "completed"
    },
    "tags": []
   },
   "outputs": [
    {
     "name": "stdout",
     "output_type": "stream",
     "text": [
      "Accuracy: 86.55 \n",
      "\n",
      "\n",
      "Classification Report,\n",
      "                    precision    recall  f1-score   support\n",
      "\n",
      "Extremely Negative       0.86      0.92      0.89       592\n",
      "          Negative       0.85      0.85      0.85      1038\n",
      "           Neutral       0.91      0.85      0.88       587\n",
      "          Positive       0.87      0.83      0.85       939\n",
      "Extremely Positive       0.86      0.92      0.89       599\n",
      "\n",
      "          accuracy                           0.87      3755\n",
      "         macro avg       0.87      0.87      0.87      3755\n",
      "      weighted avg       0.87      0.87      0.87      3755\n",
      "\n",
      "\n",
      "\n",
      "Confusion Matrix,\n"
     ]
    },
    {
     "data": {
      "text/plain": [
       "<AxesSubplot:>"
      ]
     },
     "execution_count": 21,
     "metadata": {},
     "output_type": "execute_result"
    },
    {
     "data": {
      "image/png": "[encoded data removed]",
      "text/plain": [
       "<Figure size 720x504 with 2 Axes>"
      ]
     },
     "metadata": {
      "needs_background": "light"
     },
     "output_type": "display_data"
    }
   ],
   "source": [
    "labels = ['Extremely Negative', 'Negative', 'Neutral', 'Positive', 'Extremely Positive']\n",
    "\n",
    "accuracy = accuracy_score(y_true=y_test, y_pred=y_pred) # Also gives the accuracy for the two lists actual and pred\n",
    "print(\"Accuracy: %.2lf \" % (accuracy*100))\n",
    "\n",
    "print()\n",
    "print()\n",
    "print(\"Classification Report,\")\n",
    "print(classification_report(y_test,y_pred, target_names=labels))\n",
    "\n",
    "print()\n",
    "print()\n",
    "print(\"Confusion Matrix,\")\n",
    "cf_matrix = confusion_matrix(y_test, y_pred)\n",
    "cf_matrix = pd.DataFrame(cf_matrix, index = labels,\n",
    "                  columns = labels)\n",
    "plt.figure(figsize = (10,7))\n",
    "sns.heatmap(cf_matrix, annot=True)"
   ]
  },
  {
   "cell_type": "markdown",
   "id": "59ab680d",
   "metadata": {
    "papermill": {
     "duration": 2.98896,
     "end_time": "2022-02-04T22:13:09.449960",
     "exception": false,
     "start_time": "2022-02-04T22:13:06.461000",
     "status": "completed"
    },
    "tags": []
   },
   "source": [
    "# Conclusion\n",
    "\n",
    "1. Based on the Accuracy, the model already achieved good result at 86% accuracy\n",
    "2. Based on the Recall score, the model is having trouble in predicting an Extremely Negative Label\n",
    "3. The statement in point 2 is strengthened with the evaluation from confusion matrix where the model misclassify  many Extremely Negative as Negative (about 110 missprediction which is the highest).\n",
    "4. This might happen because the tweet in the dataset is not fully english (some of the tweet not in english).\n",
    "5. Based on the classification Report the model already have a good result.\n",
    "6. Further adjustment that could be made is cleaning the dataset to remove tweet that are not in english\n",
    "7. Other adjustment could be made by adding more tweet in the label other than neutral to make the dataset more balanced."
   ]
  }
 ],
 "metadata": {
  "kernelspec": {
   "display_name": "Python 3",
   "language": "python",
   "name": "python3"
  },
  "language_info": {
   "codemirror_mode": {
    "name": "ipython",
    "version": 3
   },
   "file_extension": ".py",
   "mimetype": "text/x-python",
   "name": "python",
   "nbconvert_exporter": "python",
   "pygments_lexer": "ipython3",
   "version": "3.7.12"
  },
  "papermill": {
   "default_parameters": {},
   "duration": 5713.195758,
   "end_time": "2022-02-04T22:13:15.705134",
   "environment_variables": {},
   "exception": null,
   "input_path": "__notebook__.ipynb",
   "output_path": "__notebook__.ipynb",
   "parameters": {},
   "start_time": "2022-02-04T20:38:02.509376",
   "version": "2.3.3"
  },
  "widgets": {
   "application/vnd.jupyter.widget-state+json": {
    "state": {
     "0161bbbd0f2f486085de48fdf10b698e": {
      "model_module": "@jupyter-widgets/controls",
      "model_module_version": "1.5.0",
      "model_name": "HTMLModel",
      "state": {
       "_dom_classes": [],
       "_model_module": "@jupyter-widgets/controls",
       "_model_module_version": "1.5.0",
       "_model_name": "HTMLModel",
       "_view_count": null,
       "_view_module": "@jupyter-widgets/controls",
       "_view_module_version": "1.5.0",
       "_view_name": "HTMLView",
       "description": "",
       "description_tooltip": null,
       "layout": "IPY_MODEL_3e9202a267c642799e17033a365c898d",
       "placeholder": "​",
       "style": "IPY_MODEL_c73a11a4839a49049169545199bcfd8b",
       "value": " 226k/226k [00:00&lt;00:00, 2.46MB/s]"
      }
     },
     "021869c0df3c4526a9f7805de9bdc02d": {
      "model_module": "@jupyter-widgets/controls",
      "model_module_version": "1.5.0",
      "model_name": "DescriptionStyleModel",
      "state": {
       "_model_module": "@jupyter-widgets/controls",
       "_model_module_version": "1.5.0",
       "_model_name": "DescriptionStyleModel",
       "_view_count": null,
       "_view_module": "@jupyter-widgets/base",
       "_view_module_version": "1.2.0",
       "_view_name": "StyleView",
       "description_width": ""
      }
     },
     "03f9af84d1094e098cea4c5aebd9dd88": {
      "model_module": "@jupyter-widgets/controls",
      "model_module_version": "1.5.0",
      "model_name": "FloatProgressModel",
      "state": {
       "_dom_classes": [],
       "_model_module": "@jupyter-widgets/controls",
       "_model_module_version": "1.5.0",
       "_model_name": "FloatProgressModel",
       "_view_count": null,
       "_view_module": "@jupyter-widgets/controls",
       "_view_module_version": "1.5.0",
       "_view_name": "ProgressView",
       "bar_style": "success",
       "description": "",
       "description_tooltip": null,
       "layout": "IPY_MODEL_60cbea1e50b14df2915a066e7ace0d0d",
       "max": 466062.0,
       "min": 0.0,
       "orientation": "horizontal",
       "style": "IPY_MODEL_55b327692511481587751f18c9df4e54",
       "value": 466062.0
      }
     },
     "04450e6577f64788a84f0c0343876536": {
      "model_module": "@jupyter-widgets/controls",
      "model_module_version": "1.5.0",
      "model_name": "DescriptionStyleModel",
      "state": {
       "_model_module": "@jupyter-widgets/controls",
       "_model_module_version": "1.5.0",
       "_model_name": "DescriptionStyleModel",
       "_view_count": null,
       "_view_module": "@jupyter-widgets/base",
       "_view_module_version": "1.2.0",
       "_view_name": "StyleView",
       "description_width": ""
      }
     },
     "0bc2c2df0ca04c1eb736eaeffed4f439": {
      "model_module": "@jupyter-widgets/base",
      "model_module_version": "1.2.0",
      "model_name": "LayoutModel",
      "state": {
       "_model_module": "@jupyter-widgets/base",
       "_model_module_version": "1.2.0",
       "_model_name": "LayoutModel",
       "_view_count": null,
       "_view_module": "@jupyter-widgets/base",
       "_view_module_version": "1.2.0",
       "_view_name": "LayoutView",
       "align_content": null,
       "align_items": null,
       "align_self": null,
       "border": null,
       "bottom": null,
       "display": null,
       "flex": null,
       "flex_flow": null,
       "grid_area": null,
       "grid_auto_columns": null,
       "grid_auto_flow": null,
       "grid_auto_rows": null,
       "grid_column": null,
       "grid_gap": null,
       "grid_row": null,
       "grid_template_areas": null,
       "grid_template_columns": null,
       "grid_template_rows": null,
       "height": null,
       "justify_content": null,
       "justify_items": null,
       "left": null,
       "margin": null,
       "max_height": null,
       "max_width": null,
       "min_height": null,
       "min_width": null,
       "object_fit": null,
       "object_position": null,
       "order": null,
       "overflow": null,
       "overflow_x": null,
       "overflow_y": null,
       "padding": null,
       "right": null,
       "top": null,
       "visibility": null,
       "width": null
      }
     },
     "19240e0a284047a4a93e7906be8c592d": {
      "model_module": "@jupyter-widgets/base",
      "model_module_version": "1.2.0",
      "model_name": "LayoutModel",
      "state": {
       "_model_module": "@jupyter-widgets/base",
       "_model_module_version": "1.2.0",
       "_model_name": "LayoutModel",
       "_view_count": null,
       "_view_module": "@jupyter-widgets/base",
       "_view_module_version": "1.2.0",
       "_view_name": "LayoutView",
       "align_content": null,
       "align_items": null,
       "align_self": null,
       "border": null,
       "bottom": null,
       "display": null,
       "flex": null,
       "flex_flow": null,
       "grid_area": null,
       "grid_auto_columns": null,
       "grid_auto_flow": null,
       "grid_auto_rows": null,
       "grid_column": null,
       "grid_gap": null,
       "grid_row": null,
       "grid_template_areas": null,
       "grid_template_columns": null,
       "grid_template_rows": null,
       "height": null,
       "justify_content": null,
       "justify_items": null,
       "left": null,
       "margin": null,
       "max_height": null,
       "max_width": null,
       "min_height": null,
       "min_width": null,
       "object_fit": null,
       "object_position": null,
       "order": null,
       "overflow": null,
       "overflow_x": null,
       "overflow_y": null,
       "padding": null,
       "right": null,
       "top": null,
       "visibility": null,
       "width": null
      }
     },
     "1bded7657dc14539b7039d09954509b8": {
      "model_module": "@jupyter-widgets/controls",
      "model_module_version": "1.5.0",
      "model_name": "FloatProgressModel",
      "state": {
       "_dom_classes": [],
       "_model_module": "@jupyter-widgets/controls",
       "_model_module_version": "1.5.0",
       "_model_name": "FloatProgressModel",
       "_view_count": null,
       "_view_module": "@jupyter-widgets/controls",
       "_view_module_version": "1.5.0",
       "_view_name": "ProgressView",
       "bar_style": "success",
       "description": "",
       "description_tooltip": null,
       "layout": "IPY_MODEL_6175b44cfbd9444692e5db242d17d5d2",
       "max": 536063208.0,
       "min": 0.0,
       "orientation": "horizontal",
       "style": "IPY_MODEL_ee447c013f9345a1af013e4bfd195d6e",
       "value": 536063208.0
      }
     },
     "268d3b178c7448ab9a07b133c29c0b18": {
      "model_module": "@jupyter-widgets/controls",
      "model_module_version": "1.5.0",
      "model_name": "DescriptionStyleModel",
      "state": {
       "_model_module": "@jupyter-widgets/controls",
       "_model_module_version": "1.5.0",
       "_model_name": "DescriptionStyleModel",
       "_view_count": null,
       "_view_module": "@jupyter-widgets/base",
       "_view_module_version": "1.2.0",
       "_view_name": "StyleView",
       "description_width": ""
      }
     },
     "2daaec5ca27444d5a1dfc3e9a02999fe": {
      "model_module": "@jupyter-widgets/base",
      "model_module_version": "1.2.0",
      "model_name": "LayoutModel",
      "state": {
       "_model_module": "@jupyter-widgets/base",
       "_model_module_version": "1.2.0",
       "_model_name": "LayoutModel",
       "_view_count": null,
       "_view_module": "@jupyter-widgets/base",
       "_view_module_version": "1.2.0",
       "_view_name": "LayoutView",
       "align_content": null,
       "align_items": null,
       "align_self": null,
       "border": null,
       "bottom": null,
       "display": null,
       "flex": null,
       "flex_flow": null,
       "grid_area": null,
       "grid_auto_columns": null,
       "grid_auto_flow": null,
       "grid_auto_rows": null,
       "grid_column": null,
       "grid_gap": null,
       "grid_row": null,
       "grid_template_areas": null,
       "grid_template_columns": null,
       "grid_template_rows": null,
       "height": null,
       "justify_content": null,
       "justify_items": null,
       "left": null,
       "margin": null,
       "max_height": null,
       "max_width": null,
       "min_height": null,
       "min_width": null,
       "object_fit": null,
       "object_position": null,
       "order": null,
       "overflow": null,
       "overflow_x": null,
       "overflow_y": null,
       "padding": null,
       "right": null,
       "top": null,
       "visibility": null,
       "width": null
      }
     },
     "2e1b23f5881d4fca98f5c1bbb3433794": {
      "model_module": "@jupyter-widgets/controls",
      "model_module_version": "1.5.0",
      "model_name": "FloatProgressModel",
      "state": {
       "_dom_classes": [],
       "_model_module": "@jupyter-widgets/controls",
       "_model_module_version": "1.5.0",
       "_model_name": "FloatProgressModel",
       "_view_count": null,
       "_view_module": "@jupyter-widgets/controls",
       "_view_module_version": "1.5.0",
       "_view_name": "ProgressView",
       "bar_style": "success",
       "description": "",
       "description_tooltip": null,
       "layout": "IPY_MODEL_b655a88e84d44f81b3b2c96b87a64adb",
       "max": 28.0,
       "min": 0.0,
       "orientation": "horizontal",
       "style": "IPY_MODEL_b703e059adb34bd1bee402ba38b2683d",
       "value": 28.0
      }
     },
     "32885738ca9b4b3cb89ddb366338dc89": {
      "model_module": "@jupyter-widgets/base",
      "model_module_version": "1.2.0",
      "model_name": "LayoutModel",
      "state": {
       "_model_module": "@jupyter-widgets/base",
       "_model_module_version": "1.2.0",
       "_model_name": "LayoutModel",
       "_view_count": null,
       "_view_module": "@jupyter-widgets/base",
       "_view_module_version": "1.2.0",
       "_view_name": "LayoutView",
       "align_content": null,
       "align_items": null,
       "align_self": null,
       "border": null,
       "bottom": null,
       "display": null,
       "flex": null,
       "flex_flow": null,
       "grid_area": null,
       "grid_auto_columns": null,
       "grid_auto_flow": null,
       "grid_auto_rows": null,
       "grid_column": null,
       "grid_gap": null,
       "grid_row": null,
       "grid_template_areas": null,
       "grid_template_columns": null,
       "grid_template_rows": null,
       "height": null,
       "justify_content": null,
       "justify_items": null,
       "left": null,
       "margin": null,
       "max_height": null,
       "max_width": null,
       "min_height": null,
       "min_width": null,
       "object_fit": null,
       "object_position": null,
       "order": null,
       "overflow": null,
       "overflow_x": null,
       "overflow_y": null,
       "padding": null,
       "right": null,
       "top": null,
       "visibility": null,
       "width": null
      }
     },
     "392722d4d45d457789ac0dbadaf23b3a": {
      "model_module": "@jupyter-widgets/controls",
      "model_module_version": "1.5.0",
      "model_name": "HTMLModel",
      "state": {
       "_dom_classes": [],
       "_model_module": "@jupyter-widgets/controls",
       "_model_module_version": "1.5.0",
       "_model_name": "HTMLModel",
       "_view_count": null,
       "_view_module": "@jupyter-widgets/controls",
       "_view_module_version": "1.5.0",
       "_view_name": "HTMLView",
       "description": "",
       "description_tooltip": null,
       "layout": "IPY_MODEL_b87c82ebc31c42d18ac7cb16e9a5418f",
       "placeholder": "​",
       "style": "IPY_MODEL_eeaf495185e345eba970e9d407e22837",
       "value": "Downloading: 100%"
      }
     },
     "3b3d598e5d344188be1287f63381021b": {
      "model_module": "@jupyter-widgets/controls",
      "model_module_version": "1.5.0",
      "model_name": "DescriptionStyleModel",
      "state": {
       "_model_module": "@jupyter-widgets/controls",
       "_model_module_version": "1.5.0",
       "_model_name": "DescriptionStyleModel",
       "_view_count": null,
       "_view_module": "@jupyter-widgets/base",
       "_view_module_version": "1.2.0",
       "_view_name": "StyleView",
       "description_width": ""
      }
     },
     "3c06cc36e71b4d36be4ccb6f0111ee0b": {
      "model_module": "@jupyter-widgets/controls",
      "model_module_version": "1.5.0",
      "model_name": "HBoxModel",
      "state": {
       "_dom_classes": [],
       "_model_module": "@jupyter-widgets/controls",
       "_model_module_version": "1.5.0",
       "_model_name": "HBoxModel",
       "_view_count": null,
       "_view_module": "@jupyter-widgets/controls",
       "_view_module_version": "1.5.0",
       "_view_name": "HBoxView",
       "box_style": "",
       "children": [
        "IPY_MODEL_64cd918ed61f42cab579a20689cbf94a",
        "IPY_MODEL_724bef60b35447be8f42b0b1cb981b35",
        "IPY_MODEL_0161bbbd0f2f486085de48fdf10b698e"
       ],
       "layout": "IPY_MODEL_466cf247267a407784d6ebc47484b0e3"
      }
     },
     "3e9202a267c642799e17033a365c898d": {
      "model_module": "@jupyter-widgets/base",
      "model_module_version": "1.2.0",
      "model_name": "LayoutModel",
      "state": {
       "_model_module": "@jupyter-widgets/base",
       "_model_module_version": "1.2.0",
       "_model_name": "LayoutModel",
       "_view_count": null,
       "_view_module": "@jupyter-widgets/base",
       "_view_module_version": "1.2.0",
       "_view_name": "LayoutView",
       "align_content": null,
       "align_items": null,
       "align_self": null,
       "border": null,
       "bottom": null,
       "display": null,
       "flex": null,
       "flex_flow": null,
       "grid_area": null,
       "grid_auto_columns": null,
       "grid_auto_flow": null,
       "grid_auto_rows": null,
       "grid_column": null,
       "grid_gap": null,
       "grid_row": null,
       "grid_template_areas": null,
       "grid_template_columns": null,
       "grid_template_rows": null,
       "height": null,
       "justify_content": null,
       "justify_items": null,
       "left": null,
       "margin": null,
       "max_height": null,
       "max_width": null,
       "min_height": null,
       "min_width": null,
       "object_fit": null,
       "object_position": null,
       "order": null,
       "overflow": null,
       "overflow_x": null,
       "overflow_y": null,
       "padding": null,
       "right": null,
       "top": null,
       "visibility": null,
       "width": null
      }
     },
     "45183b0d2d0e4d6faac313fb75600d00": {
      "model_module": "@jupyter-widgets/base",
      "model_module_version": "1.2.0",
      "model_name": "LayoutModel",
      "state": {
       "_model_module": "@jupyter-widgets/base",
       "_model_module_version": "1.2.0",
       "_model_name": "LayoutModel",
       "_view_count": null,
       "_view_module": "@jupyter-widgets/base",
       "_view_module_version": "1.2.0",
       "_view_name": "LayoutView",
       "align_content": null,
       "align_items": null,
       "align_self": null,
       "border": null,
       "bottom": null,
       "display": null,
       "flex": null,
       "flex_flow": null,
       "grid_area": null,
       "grid_auto_columns": null,
       "grid_auto_flow": null,
       "grid_auto_rows": null,
       "grid_column": null,
       "grid_gap": null,
       "grid_row": null,
       "grid_template_areas": null,
       "grid_template_columns": null,
       "grid_template_rows": null,
       "height": null,
       "justify_content": null,
       "justify_items": null,
       "left": null,
       "margin": null,
       "max_height": null,
       "max_width": null,
       "min_height": null,
       "min_width": null,
       "object_fit": null,
       "object_position": null,
       "order": null,
       "overflow": null,
       "overflow_x": null,
       "overflow_y": null,
       "padding": null,
       "right": null,
       "top": null,
       "visibility": null,
       "width": null
      }
     },
     "466cf247267a407784d6ebc47484b0e3": {
      "model_module": "@jupyter-widgets/base",
      "model_module_version": "1.2.0",
      "model_name": "LayoutModel",
      "state": {
       "_model_module": "@jupyter-widgets/base",
       "_model_module_version": "1.2.0",
       "_model_name": "LayoutModel",
       "_view_count": null,
       "_view_module": "@jupyter-widgets/base",
       "_view_module_version": "1.2.0",
       "_view_name": "LayoutView",
       "align_content": null,
       "align_items": null,
       "align_self": null,
       "border": null,
       "bottom": null,
       "display": null,
       "flex": null,
       "flex_flow": null,
       "grid_area": null,
       "grid_auto_columns": null,
       "grid_auto_flow": null,
       "grid_auto_rows": null,
       "grid_column": null,
       "grid_gap": null,
       "grid_row": null,
       "grid_template_areas": null,
       "grid_template_columns": null,
       "grid_template_rows": null,
       "height": null,
       "justify_content": null,
       "justify_items": null,
       "left": null,
       "margin": null,
       "max_height": null,
       "max_width": null,
       "min_height": null,
       "min_width": null,
       "object_fit": null,
       "object_position": null,
       "order": null,
       "overflow": null,
       "overflow_x": null,
       "overflow_y": null,
       "padding": null,
       "right": null,
       "top": null,
       "visibility": null,
       "width": null
      }
     },
     "49a4d0ed4cb540d185f359849fcf6cb5": {
      "model_module": "@jupyter-widgets/base",
      "model_module_version": "1.2.0",
      "model_name": "LayoutModel",
      "state": {
       "_model_module": "@jupyter-widgets/base",
       "_model_module_version": "1.2.0",
       "_model_name": "LayoutModel",
       "_view_count": null,
       "_view_module": "@jupyter-widgets/base",
       "_view_module_version": "1.2.0",
       "_view_name": "LayoutView",
       "align_content": null,
       "align_items": null,
       "align_self": null,
       "border": null,
       "bottom": null,
       "display": null,
       "flex": null,
       "flex_flow": null,
       "grid_area": null,
       "grid_auto_columns": null,
       "grid_auto_flow": null,
       "grid_auto_rows": null,
       "grid_column": null,
       "grid_gap": null,
       "grid_row": null,
       "grid_template_areas": null,
       "grid_template_columns": null,
       "grid_template_rows": null,
       "height": null,
       "justify_content": null,
       "justify_items": null,
       "left": null,
       "margin": null,
       "max_height": null,
       "max_width": null,
       "min_height": null,
       "min_width": null,
       "object_fit": null,
       "object_position": null,
       "order": null,
       "overflow": null,
       "overflow_x": null,
       "overflow_y": null,
       "padding": null,
       "right": null,
       "top": null,
       "visibility": null,
       "width": null
      }
     },
     "55ab9dca63324b3dacf26e8380bfab0d": {
      "model_module": "@jupyter-widgets/base",
      "model_module_version": "1.2.0",
      "model_name": "LayoutModel",
      "state": {
       "_model_module": "@jupyter-widgets/base",
       "_model_module_version": "1.2.0",
       "_model_name": "LayoutModel",
       "_view_count": null,
       "_view_module": "@jupyter-widgets/base",
       "_view_module_version": "1.2.0",
       "_view_name": "LayoutView",
       "align_content": null,
       "align_items": null,
       "align_self": null,
       "border": null,
       "bottom": null,
       "display": null,
       "flex": null,
       "flex_flow": null,
       "grid_area": null,
       "grid_auto_columns": null,
       "grid_auto_flow": null,
       "grid_auto_rows": null,
       "grid_column": null,
       "grid_gap": null,
       "grid_row": null,
       "grid_template_areas": null,
       "grid_template_columns": null,
       "grid_template_rows": null,
       "height": null,
       "justify_content": null,
       "justify_items": null,
       "left": null,
       "margin": null,
       "max_height": null,
       "max_width": null,
       "min_height": null,
       "min_width": null,
       "object_fit": null,
       "object_position": null,
       "order": null,
       "overflow": null,
       "overflow_x": null,
       "overflow_y": null,
       "padding": null,
       "right": null,
       "top": null,
       "visibility": null,
       "width": null
      }
     },
     "55b327692511481587751f18c9df4e54": {
      "model_module": "@jupyter-widgets/controls",
      "model_module_version": "1.5.0",
      "model_name": "ProgressStyleModel",
      "state": {
       "_model_module": "@jupyter-widgets/controls",
       "_model_module_version": "1.5.0",
       "_model_name": "ProgressStyleModel",
       "_view_count": null,
       "_view_module": "@jupyter-widgets/base",
       "_view_module_version": "1.2.0",
       "_view_name": "StyleView",
       "bar_color": null,
       "description_width": ""
      }
     },
     "5dd2208d913f4c5dadbd87914c82b649": {
      "model_module": "@jupyter-widgets/controls",
      "model_module_version": "1.5.0",
      "model_name": "HTMLModel",
      "state": {
       "_dom_classes": [],
       "_model_module": "@jupyter-widgets/controls",
       "_model_module_version": "1.5.0",
       "_model_name": "HTMLModel",
       "_view_count": null,
       "_view_module": "@jupyter-widgets/controls",
       "_view_module_version": "1.5.0",
       "_view_name": "HTMLView",
       "description": "",
       "description_tooltip": null,
       "layout": "IPY_MODEL_b3854a1b468247aebe3da140c331f0c9",
       "placeholder": "​",
       "style": "IPY_MODEL_dbd9f943c2334e8a9734e71304173951",
       "value": " 511M/511M [00:13&lt;00:00, 43.1MB/s]"
      }
     },
     "601fa296d5d6468e896434533ccb36f1": {
      "model_module": "@jupyter-widgets/controls",
      "model_module_version": "1.5.0",
      "model_name": "HBoxModel",
      "state": {
       "_dom_classes": [],
       "_model_module": "@jupyter-widgets/controls",
       "_model_module_version": "1.5.0",
       "_model_name": "HBoxModel",
       "_view_count": null,
       "_view_module": "@jupyter-widgets/controls",
       "_view_module_version": "1.5.0",
       "_view_name": "HBoxView",
       "box_style": "",
       "children": [
        "IPY_MODEL_bfebbf42cf9746f28aa794b0a3d2c84f",
        "IPY_MODEL_1bded7657dc14539b7039d09954509b8",
        "IPY_MODEL_5dd2208d913f4c5dadbd87914c82b649"
       ],
       "layout": "IPY_MODEL_0bc2c2df0ca04c1eb736eaeffed4f439"
      }
     },
     "60cbea1e50b14df2915a066e7ace0d0d": {
      "model_module": "@jupyter-widgets/base",
      "model_module_version": "1.2.0",
      "model_name": "LayoutModel",
      "state": {
       "_model_module": "@jupyter-widgets/base",
       "_model_module_version": "1.2.0",
       "_model_name": "LayoutModel",
       "_view_count": null,
       "_view_module": "@jupyter-widgets/base",
       "_view_module_version": "1.2.0",
       "_view_name": "LayoutView",
       "align_content": null,
       "align_items": null,
       "align_self": null,
       "border": null,
       "bottom": null,
       "display": null,
       "flex": null,
       "flex_flow": null,
       "grid_area": null,
       "grid_auto_columns": null,
       "grid_auto_flow": null,
       "grid_auto_rows": null,
       "grid_column": null,
       "grid_gap": null,
       "grid_row": null,
       "grid_template_areas": null,
       "grid_template_columns": null,
       "grid_template_rows": null,
       "height": null,
       "justify_content": null,
       "justify_items": null,
       "left": null,
       "margin": null,
       "max_height": null,
       "max_width": null,
       "min_height": null,
       "min_width": null,
       "object_fit": null,
       "object_position": null,
       "order": null,
       "overflow": null,
       "overflow_x": null,
       "overflow_y": null,
       "padding": null,
       "right": null,
       "top": null,
       "visibility": null,
       "width": null
      }
     },
     "6175b44cfbd9444692e5db242d17d5d2": {
      "model_module": "@jupyter-widgets/base",
      "model_module_version": "1.2.0",
      "model_name": "LayoutModel",
      "state": {
       "_model_module": "@jupyter-widgets/base",
       "_model_module_version": "1.2.0",
       "_model_name": "LayoutModel",
       "_view_count": null,
       "_view_module": "@jupyter-widgets/base",
       "_view_module_version": "1.2.0",
       "_view_name": "LayoutView",
       "align_content": null,
       "align_items": null,
       "align_self": null,
       "border": null,
       "bottom": null,
       "display": null,
       "flex": null,
       "flex_flow": null,
       "grid_area": null,
       "grid_auto_columns": null,
       "grid_auto_flow": null,
       "grid_auto_rows": null,
       "grid_column": null,
       "grid_gap": null,
       "grid_row": null,
       "grid_template_areas": null,
       "grid_template_columns": null,
       "grid_template_rows": null,
       "height": null,
       "justify_content": null,
       "justify_items": null,
       "left": null,
       "margin": null,
       "max_height": null,
       "max_width": null,
       "min_height": null,
       "min_width": null,
       "object_fit": null,
       "object_position": null,
       "order": null,
       "overflow": null,
       "overflow_x": null,
       "overflow_y": null,
       "padding": null,
       "right": null,
       "top": null,
       "visibility": null,
       "width": null
      }
     },
     "62b49b1b34be4d4b9f20a14fc1641077": {
      "model_module": "@jupyter-widgets/controls",
      "model_module_version": "1.5.0",
      "model_name": "ProgressStyleModel",
      "state": {
       "_model_module": "@jupyter-widgets/controls",
       "_model_module_version": "1.5.0",
       "_model_name": "ProgressStyleModel",
       "_view_count": null,
       "_view_module": "@jupyter-widgets/base",
       "_view_module_version": "1.2.0",
       "_view_name": "StyleView",
       "bar_color": null,
       "description_width": ""
      }
     },
     "64cd918ed61f42cab579a20689cbf94a": {
      "model_module": "@jupyter-widgets/controls",
      "model_module_version": "1.5.0",
      "model_name": "HTMLModel",
      "state": {
       "_dom_classes": [],
       "_model_module": "@jupyter-widgets/controls",
       "_model_module_version": "1.5.0",
       "_model_name": "HTMLModel",
       "_view_count": null,
       "_view_module": "@jupyter-widgets/controls",
       "_view_module_version": "1.5.0",
       "_view_name": "HTMLView",
       "description": "",
       "description_tooltip": null,
       "layout": "IPY_MODEL_45183b0d2d0e4d6faac313fb75600d00",
       "placeholder": "​",
       "style": "IPY_MODEL_3b3d598e5d344188be1287f63381021b",
       "value": "Downloading: 100%"
      }
     },
     "699df2e89e434da483234dc7c1a50a79": {
      "model_module": "@jupyter-widgets/controls",
      "model_module_version": "1.5.0",
      "model_name": "HTMLModel",
      "state": {
       "_dom_classes": [],
       "_model_module": "@jupyter-widgets/controls",
       "_model_module_version": "1.5.0",
       "_model_name": "HTMLModel",
       "_view_count": null,
       "_view_module": "@jupyter-widgets/controls",
       "_view_module_version": "1.5.0",
       "_view_name": "HTMLView",
       "description": "",
       "description_tooltip": null,
       "layout": "IPY_MODEL_b8aca6df8c864451a404304217e7e17b",
       "placeholder": "​",
       "style": "IPY_MODEL_ff5b820003d542caab2de7cf311df2a5",
       "value": " 570/570 [00:00&lt;00:00, 23.1kB/s]"
      }
     },
     "724bef60b35447be8f42b0b1cb981b35": {
      "model_module": "@jupyter-widgets/controls",
      "model_module_version": "1.5.0",
      "model_name": "FloatProgressModel",
      "state": {
       "_dom_classes": [],
       "_model_module": "@jupyter-widgets/controls",
       "_model_module_version": "1.5.0",
       "_model_name": "FloatProgressModel",
       "_view_count": null,
       "_view_module": "@jupyter-widgets/controls",
       "_view_module_version": "1.5.0",
       "_view_name": "ProgressView",
       "bar_style": "success",
       "description": "",
       "description_tooltip": null,
       "layout": "IPY_MODEL_c053ae0ee4104b2990772e39bf5fdfce",
       "max": 231508.0,
       "min": 0.0,
       "orientation": "horizontal",
       "style": "IPY_MODEL_e3aa797a446a43e8a286394a20b26506",
       "value": 231508.0
      }
     },
     "7c74946800074409a9c0c84c350446fc": {
      "model_module": "@jupyter-widgets/controls",
      "model_module_version": "1.5.0",
      "model_name": "FloatProgressModel",
      "state": {
       "_dom_classes": [],
       "_model_module": "@jupyter-widgets/controls",
       "_model_module_version": "1.5.0",
       "_model_name": "FloatProgressModel",
       "_view_count": null,
       "_view_module": "@jupyter-widgets/controls",
       "_view_module_version": "1.5.0",
       "_view_name": "ProgressView",
       "bar_style": "success",
       "description": "",
       "description_tooltip": null,
       "layout": "IPY_MODEL_98791b43d44b4614a31c0821f98f44ce",
       "max": 570.0,
       "min": 0.0,
       "orientation": "horizontal",
       "style": "IPY_MODEL_62b49b1b34be4d4b9f20a14fc1641077",
       "value": 570.0
      }
     },
     "7e705fb288cc43d0ba25602050258b9d": {
      "model_module": "@jupyter-widgets/base",
      "model_module_version": "1.2.0",
      "model_name": "LayoutModel",
      "state": {
       "_model_module": "@jupyter-widgets/base",
       "_model_module_version": "1.2.0",
       "_model_name": "LayoutModel",
       "_view_count": null,
       "_view_module": "@jupyter-widgets/base",
       "_view_module_version": "1.2.0",
       "_view_name": "LayoutView",
       "align_content": null,
       "align_items": null,
       "align_self": null,
       "border": null,
       "bottom": null,
       "display": null,
       "flex": null,
       "flex_flow": null,
       "grid_area": null,
       "grid_auto_columns": null,
       "grid_auto_flow": null,
       "grid_auto_rows": null,
       "grid_column": null,
       "grid_gap": null,
       "grid_row": null,
       "grid_template_areas": null,
       "grid_template_columns": null,
       "grid_template_rows": null,
       "height": null,
       "justify_content": null,
       "justify_items": null,
       "left": null,
       "margin": null,
       "max_height": null,
       "max_width": null,
       "min_height": null,
       "min_width": null,
       "object_fit": null,
       "object_position": null,
       "order": null,
       "overflow": null,
       "overflow_x": null,
       "overflow_y": null,
       "padding": null,
       "right": null,
       "top": null,
       "visibility": null,
       "width": null
      }
     },
     "87ffe06e6bdb41afb5e5094d0106b5b9": {
      "model_module": "@jupyter-widgets/controls",
      "model_module_version": "1.5.0",
      "model_name": "DescriptionStyleModel",
      "state": {
       "_model_module": "@jupyter-widgets/controls",
       "_model_module_version": "1.5.0",
       "_model_name": "DescriptionStyleModel",
       "_view_count": null,
       "_view_module": "@jupyter-widgets/base",
       "_view_module_version": "1.2.0",
       "_view_name": "StyleView",
       "description_width": ""
      }
     },
     "88615f426fea4fcea9807382d6cf01db": {
      "model_module": "@jupyter-widgets/base",
      "model_module_version": "1.2.0",
      "model_name": "LayoutModel",
      "state": {
       "_model_module": "@jupyter-widgets/base",
       "_model_module_version": "1.2.0",
       "_model_name": "LayoutModel",
       "_view_count": null,
       "_view_module": "@jupyter-widgets/base",
       "_view_module_version": "1.2.0",
       "_view_name": "LayoutView",
       "align_content": null,
       "align_items": null,
       "align_self": null,
       "border": null,
       "bottom": null,
       "display": null,
       "flex": null,
       "flex_flow": null,
       "grid_area": null,
       "grid_auto_columns": null,
       "grid_auto_flow": null,
       "grid_auto_rows": null,
       "grid_column": null,
       "grid_gap": null,
       "grid_row": null,
       "grid_template_areas": null,
       "grid_template_columns": null,
       "grid_template_rows": null,
       "height": null,
       "justify_content": null,
       "justify_items": null,
       "left": null,
       "margin": null,
       "max_height": null,
       "max_width": null,
       "min_height": null,
       "min_width": null,
       "object_fit": null,
       "object_position": null,
       "order": null,
       "overflow": null,
       "overflow_x": null,
       "overflow_y": null,
       "padding": null,
       "right": null,
       "top": null,
       "visibility": null,
       "width": null
      }
     },
     "98791b43d44b4614a31c0821f98f44ce": {
      "model_module": "@jupyter-widgets/base",
      "model_module_version": "1.2.0",
      "model_name": "LayoutModel",
      "state": {
       "_model_module": "@jupyter-widgets/base",
       "_model_module_version": "1.2.0",
       "_model_name": "LayoutModel",
       "_view_count": null,
       "_view_module": "@jupyter-widgets/base",
       "_view_module_version": "1.2.0",
       "_view_name": "LayoutView",
       "align_content": null,
       "align_items": null,
       "align_self": null,
       "border": null,
       "bottom": null,
       "display": null,
       "flex": null,
       "flex_flow": null,
       "grid_area": null,
       "grid_auto_columns": null,
       "grid_auto_flow": null,
       "grid_auto_rows": null,
       "grid_column": null,
       "grid_gap": null,
       "grid_row": null,
       "grid_template_areas": null,
       "grid_template_columns": null,
       "grid_template_rows": null,
       "height": null,
       "justify_content": null,
       "justify_items": null,
       "left": null,
       "margin": null,
       "max_height": null,
       "max_width": null,
       "min_height": null,
       "min_width": null,
       "object_fit": null,
       "object_position": null,
       "order": null,
       "overflow": null,
       "overflow_x": null,
       "overflow_y": null,
       "padding": null,
       "right": null,
       "top": null,
       "visibility": null,
       "width": null
      }
     },
     "a662c7a937b34068a97a006a5370e7e5": {
      "model_module": "@jupyter-widgets/base",
      "model_module_version": "1.2.0",
      "model_name": "LayoutModel",
      "state": {
       "_model_module": "@jupyter-widgets/base",
       "_model_module_version": "1.2.0",
       "_model_name": "LayoutModel",
       "_view_count": null,
       "_view_module": "@jupyter-widgets/base",
       "_view_module_version": "1.2.0",
       "_view_name": "LayoutView",
       "align_content": null,
       "align_items": null,
       "align_self": null,
       "border": null,
       "bottom": null,
       "display": null,
       "flex": null,
       "flex_flow": null,
       "grid_area": null,
       "grid_auto_columns": null,
       "grid_auto_flow": null,
       "grid_auto_rows": null,
       "grid_column": null,
       "grid_gap": null,
       "grid_row": null,
       "grid_template_areas": null,
       "grid_template_columns": null,
       "grid_template_rows": null,
       "height": null,
       "justify_content": null,
       "justify_items": null,
       "left": null,
       "margin": null,
       "max_height": null,
       "max_width": null,
       "min_height": null,
       "min_width": null,
       "object_fit": null,
       "object_position": null,
       "order": null,
       "overflow": null,
       "overflow_x": null,
       "overflow_y": null,
       "padding": null,
       "right": null,
       "top": null,
       "visibility": null,
       "width": null
      }
     },
     "abb4ed0b941b4237be7cf5887f051fe6": {
      "model_module": "@jupyter-widgets/controls",
      "model_module_version": "1.5.0",
      "model_name": "HBoxModel",
      "state": {
       "_dom_classes": [],
       "_model_module": "@jupyter-widgets/controls",
       "_model_module_version": "1.5.0",
       "_model_name": "HBoxModel",
       "_view_count": null,
       "_view_module": "@jupyter-widgets/controls",
       "_view_module_version": "1.5.0",
       "_view_name": "HBoxView",
       "box_style": "",
       "children": [
        "IPY_MODEL_392722d4d45d457789ac0dbadaf23b3a",
        "IPY_MODEL_2e1b23f5881d4fca98f5c1bbb3433794",
        "IPY_MODEL_e2b77c9da3ac40039409cdc19216602b"
       ],
       "layout": "IPY_MODEL_7e705fb288cc43d0ba25602050258b9d"
      }
     },
     "b3854a1b468247aebe3da140c331f0c9": {
      "model_module": "@jupyter-widgets/base",
      "model_module_version": "1.2.0",
      "model_name": "LayoutModel",
      "state": {
       "_model_module": "@jupyter-widgets/base",
       "_model_module_version": "1.2.0",
       "_model_name": "LayoutModel",
       "_view_count": null,
       "_view_module": "@jupyter-widgets/base",
       "_view_module_version": "1.2.0",
       "_view_name": "LayoutView",
       "align_content": null,
       "align_items": null,
       "align_self": null,
       "border": null,
       "bottom": null,
       "display": null,
       "flex": null,
       "flex_flow": null,
       "grid_area": null,
       "grid_auto_columns": null,
       "grid_auto_flow": null,
       "grid_auto_rows": null,
       "grid_column": null,
       "grid_gap": null,
       "grid_row": null,
       "grid_template_areas": null,
       "grid_template_columns": null,
       "grid_template_rows": null,
       "height": null,
       "justify_content": null,
       "justify_items": null,
       "left": null,
       "margin": null,
       "max_height": null,
       "max_width": null,
       "min_height": null,
       "min_width": null,
       "object_fit": null,
       "object_position": null,
       "order": null,
       "overflow": null,
       "overflow_x": null,
       "overflow_y": null,
       "padding": null,
       "right": null,
       "top": null,
       "visibility": null,
       "width": null
      }
     },
     "b655a88e84d44f81b3b2c96b87a64adb": {
      "model_module": "@jupyter-widgets/base",
      "model_module_version": "1.2.0",
      "model_name": "LayoutModel",
      "state": {
       "_model_module": "@jupyter-widgets/base",
       "_model_module_version": "1.2.0",
       "_model_name": "LayoutModel",
       "_view_count": null,
       "_view_module": "@jupyter-widgets/base",
       "_view_module_version": "1.2.0",
       "_view_name": "LayoutView",
       "align_content": null,
       "align_items": null,
       "align_self": null,
       "border": null,
       "bottom": null,
       "display": null,
       "flex": null,
       "flex_flow": null,
       "grid_area": null,
       "grid_auto_columns": null,
       "grid_auto_flow": null,
       "grid_auto_rows": null,
       "grid_column": null,
       "grid_gap": null,
       "grid_row": null,
       "grid_template_areas": null,
       "grid_template_columns": null,
       "grid_template_rows": null,
       "height": null,
       "justify_content": null,
       "justify_items": null,
       "left": null,
       "margin": null,
       "max_height": null,
       "max_width": null,
       "min_height": null,
       "min_width": null,
       "object_fit": null,
       "object_position": null,
       "order": null,
       "overflow": null,
       "overflow_x": null,
       "overflow_y": null,
       "padding": null,
       "right": null,
       "top": null,
       "visibility": null,
       "width": null
      }
     },
     "b703e059adb34bd1bee402ba38b2683d": {
      "model_module": "@jupyter-widgets/controls",
      "model_module_version": "1.5.0",
      "model_name": "ProgressStyleModel",
      "state": {
       "_model_module": "@jupyter-widgets/controls",
       "_model_module_version": "1.5.0",
       "_model_name": "ProgressStyleModel",
       "_view_count": null,
       "_view_module": "@jupyter-widgets/base",
       "_view_module_version": "1.2.0",
       "_view_name": "StyleView",
       "bar_color": null,
       "description_width": ""
      }
     },
     "b87c82ebc31c42d18ac7cb16e9a5418f": {
      "model_module": "@jupyter-widgets/base",
      "model_module_version": "1.2.0",
      "model_name": "LayoutModel",
      "state": {
       "_model_module": "@jupyter-widgets/base",
       "_model_module_version": "1.2.0",
       "_model_name": "LayoutModel",
       "_view_count": null,
       "_view_module": "@jupyter-widgets/base",
       "_view_module_version": "1.2.0",
       "_view_name": "LayoutView",
       "align_content": null,
       "align_items": null,
       "align_self": null,
       "border": null,
       "bottom": null,
       "display": null,
       "flex": null,
       "flex_flow": null,
       "grid_area": null,
       "grid_auto_columns": null,
       "grid_auto_flow": null,
       "grid_auto_rows": null,
       "grid_column": null,
       "grid_gap": null,
       "grid_row": null,
       "grid_template_areas": null,
       "grid_template_columns": null,
       "grid_template_rows": null,
       "height": null,
       "justify_content": null,
       "justify_items": null,
       "left": null,
       "margin": null,
       "max_height": null,
       "max_width": null,
       "min_height": null,
       "min_width": null,
       "object_fit": null,
       "object_position": null,
       "order": null,
       "overflow": null,
       "overflow_x": null,
       "overflow_y": null,
       "padding": null,
       "right": null,
       "top": null,
       "visibility": null,
       "width": null
      }
     },
     "b8aca6df8c864451a404304217e7e17b": {
      "model_module": "@jupyter-widgets/base",
      "model_module_version": "1.2.0",
      "model_name": "LayoutModel",
      "state": {
       "_model_module": "@jupyter-widgets/base",
       "_model_module_version": "1.2.0",
       "_model_name": "LayoutModel",
       "_view_count": null,
       "_view_module": "@jupyter-widgets/base",
       "_view_module_version": "1.2.0",
       "_view_name": "LayoutView",
       "align_content": null,
       "align_items": null,
       "align_self": null,
       "border": null,
       "bottom": null,
       "display": null,
       "flex": null,
       "flex_flow": null,
       "grid_area": null,
       "grid_auto_columns": null,
       "grid_auto_flow": null,
       "grid_auto_rows": null,
       "grid_column": null,
       "grid_gap": null,
       "grid_row": null,
       "grid_template_areas": null,
       "grid_template_columns": null,
       "grid_template_rows": null,
       "height": null,
       "justify_content": null,
       "justify_items": null,
       "left": null,
       "margin": null,
       "max_height": null,
       "max_width": null,
       "min_height": null,
       "min_width": null,
       "object_fit": null,
       "object_position": null,
       "order": null,
       "overflow": null,
       "overflow_x": null,
       "overflow_y": null,
       "padding": null,
       "right": null,
       "top": null,
       "visibility": null,
       "width": null
      }
     },
     "bfebbf42cf9746f28aa794b0a3d2c84f": {
      "model_module": "@jupyter-widgets/controls",
      "model_module_version": "1.5.0",
      "model_name": "HTMLModel",
      "state": {
       "_dom_classes": [],
       "_model_module": "@jupyter-widgets/controls",
       "_model_module_version": "1.5.0",
       "_model_name": "HTMLModel",
       "_view_count": null,
       "_view_module": "@jupyter-widgets/controls",
       "_view_module_version": "1.5.0",
       "_view_name": "HTMLView",
       "description": "",
       "description_tooltip": null,
       "layout": "IPY_MODEL_55ab9dca63324b3dacf26e8380bfab0d",
       "placeholder": "​",
       "style": "IPY_MODEL_e3dcc14597ec4dc7b292e2bb730f5d6f",
       "value": "Downloading: 100%"
      }
     },
     "c053ae0ee4104b2990772e39bf5fdfce": {
      "model_module": "@jupyter-widgets/base",
      "model_module_version": "1.2.0",
      "model_name": "LayoutModel",
      "state": {
       "_model_module": "@jupyter-widgets/base",
       "_model_module_version": "1.2.0",
       "_model_name": "LayoutModel",
       "_view_count": null,
       "_view_module": "@jupyter-widgets/base",
       "_view_module_version": "1.2.0",
       "_view_name": "LayoutView",
       "align_content": null,
       "align_items": null,
       "align_self": null,
       "border": null,
       "bottom": null,
       "display": null,
       "flex": null,
       "flex_flow": null,
       "grid_area": null,
       "grid_auto_columns": null,
       "grid_auto_flow": null,
       "grid_auto_rows": null,
       "grid_column": null,
       "grid_gap": null,
       "grid_row": null,
       "grid_template_areas": null,
       "grid_template_columns": null,
       "grid_template_rows": null,
       "height": null,
       "justify_content": null,
       "justify_items": null,
       "left": null,
       "margin": null,
       "max_height": null,
       "max_width": null,
       "min_height": null,
       "min_width": null,
       "object_fit": null,
       "object_position": null,
       "order": null,
       "overflow": null,
       "overflow_x": null,
       "overflow_y": null,
       "padding": null,
       "right": null,
       "top": null,
       "visibility": null,
       "width": null
      }
     },
     "c5785991489844bda6447da27c172fe3": {
      "model_module": "@jupyter-widgets/controls",
      "model_module_version": "1.5.0",
      "model_name": "HBoxModel",
      "state": {
       "_dom_classes": [],
       "_model_module": "@jupyter-widgets/controls",
       "_model_module_version": "1.5.0",
       "_model_name": "HBoxModel",
       "_view_count": null,
       "_view_module": "@jupyter-widgets/controls",
       "_view_module_version": "1.5.0",
       "_view_name": "HBoxView",
       "box_style": "",
       "children": [
        "IPY_MODEL_cf8c0049055e4f0ba240562577b4e92a",
        "IPY_MODEL_7c74946800074409a9c0c84c350446fc",
        "IPY_MODEL_699df2e89e434da483234dc7c1a50a79"
       ],
       "layout": "IPY_MODEL_32885738ca9b4b3cb89ddb366338dc89"
      }
     },
     "c73a11a4839a49049169545199bcfd8b": {
      "model_module": "@jupyter-widgets/controls",
      "model_module_version": "1.5.0",
      "model_name": "DescriptionStyleModel",
      "state": {
       "_model_module": "@jupyter-widgets/controls",
       "_model_module_version": "1.5.0",
       "_model_name": "DescriptionStyleModel",
       "_view_count": null,
       "_view_module": "@jupyter-widgets/base",
       "_view_module_version": "1.2.0",
       "_view_name": "StyleView",
       "description_width": ""
      }
     },
     "cf8c0049055e4f0ba240562577b4e92a": {
      "model_module": "@jupyter-widgets/controls",
      "model_module_version": "1.5.0",
      "model_name": "HTMLModel",
      "state": {
       "_dom_classes": [],
       "_model_module": "@jupyter-widgets/controls",
       "_model_module_version": "1.5.0",
       "_model_name": "HTMLModel",
       "_view_count": null,
       "_view_module": "@jupyter-widgets/controls",
       "_view_module_version": "1.5.0",
       "_view_name": "HTMLView",
       "description": "",
       "description_tooltip": null,
       "layout": "IPY_MODEL_49a4d0ed4cb540d185f359849fcf6cb5",
       "placeholder": "​",
       "style": "IPY_MODEL_87ffe06e6bdb41afb5e5094d0106b5b9",
       "value": "Downloading: 100%"
      }
     },
     "dbd9f943c2334e8a9734e71304173951": {
      "model_module": "@jupyter-widgets/controls",
      "model_module_version": "1.5.0",
      "model_name": "DescriptionStyleModel",
      "state": {
       "_model_module": "@jupyter-widgets/controls",
       "_model_module_version": "1.5.0",
       "_model_name": "DescriptionStyleModel",
       "_view_count": null,
       "_view_module": "@jupyter-widgets/base",
       "_view_module_version": "1.2.0",
       "_view_name": "StyleView",
       "description_width": ""
      }
     },
     "dc681a3e8f86457ca454f6358fd20c75": {
      "model_module": "@jupyter-widgets/controls",
      "model_module_version": "1.5.0",
      "model_name": "HBoxModel",
      "state": {
       "_dom_classes": [],
       "_model_module": "@jupyter-widgets/controls",
       "_model_module_version": "1.5.0",
       "_model_name": "HBoxModel",
       "_view_count": null,
       "_view_module": "@jupyter-widgets/controls",
       "_view_module_version": "1.5.0",
       "_view_name": "HBoxView",
       "box_style": "",
       "children": [
        "IPY_MODEL_e55786353851406bb1de47be1022a19d",
        "IPY_MODEL_03f9af84d1094e098cea4c5aebd9dd88",
        "IPY_MODEL_f04b7dd2146149e98929d348ede58592"
       ],
       "layout": "IPY_MODEL_19240e0a284047a4a93e7906be8c592d"
      }
     },
     "e2b77c9da3ac40039409cdc19216602b": {
      "model_module": "@jupyter-widgets/controls",
      "model_module_version": "1.5.0",
      "model_name": "HTMLModel",
      "state": {
       "_dom_classes": [],
       "_model_module": "@jupyter-widgets/controls",
       "_model_module_version": "1.5.0",
       "_model_name": "HTMLModel",
       "_view_count": null,
       "_view_module": "@jupyter-widgets/controls",
       "_view_module_version": "1.5.0",
       "_view_name": "HTMLView",
       "description": "",
       "description_tooltip": null,
       "layout": "IPY_MODEL_88615f426fea4fcea9807382d6cf01db",
       "placeholder": "​",
       "style": "IPY_MODEL_021869c0df3c4526a9f7805de9bdc02d",
       "value": " 28.0/28.0 [00:00&lt;00:00, 1.14kB/s]"
      }
     },
     "e3aa797a446a43e8a286394a20b26506": {
      "model_module": "@jupyter-widgets/controls",
      "model_module_version": "1.5.0",
      "model_name": "ProgressStyleModel",
      "state": {
       "_model_module": "@jupyter-widgets/controls",
       "_model_module_version": "1.5.0",
       "_model_name": "ProgressStyleModel",
       "_view_count": null,
       "_view_module": "@jupyter-widgets/base",
       "_view_module_version": "1.2.0",
       "_view_name": "StyleView",
       "bar_color": null,
       "description_width": ""
      }
     },
     "e3dcc14597ec4dc7b292e2bb730f5d6f": {
      "model_module": "@jupyter-widgets/controls",
      "model_module_version": "1.5.0",
      "model_name": "DescriptionStyleModel",
      "state": {
       "_model_module": "@jupyter-widgets/controls",
       "_model_module_version": "1.5.0",
       "_model_name": "DescriptionStyleModel",
       "_view_count": null,
       "_view_module": "@jupyter-widgets/base",
       "_view_module_version": "1.2.0",
       "_view_name": "StyleView",
       "description_width": ""
      }
     },
     "e55786353851406bb1de47be1022a19d": {
      "model_module": "@jupyter-widgets/controls",
      "model_module_version": "1.5.0",
      "model_name": "HTMLModel",
      "state": {
       "_dom_classes": [],
       "_model_module": "@jupyter-widgets/controls",
       "_model_module_version": "1.5.0",
       "_model_name": "HTMLModel",
       "_view_count": null,
       "_view_module": "@jupyter-widgets/controls",
       "_view_module_version": "1.5.0",
       "_view_name": "HTMLView",
       "description": "",
       "description_tooltip": null,
       "layout": "IPY_MODEL_a662c7a937b34068a97a006a5370e7e5",
       "placeholder": "​",
       "style": "IPY_MODEL_268d3b178c7448ab9a07b133c29c0b18",
       "value": "Downloading: 100%"
      }
     },
     "ee447c013f9345a1af013e4bfd195d6e": {
      "model_module": "@jupyter-widgets/controls",
      "model_module_version": "1.5.0",
      "model_name": "ProgressStyleModel",
      "state": {
       "_model_module": "@jupyter-widgets/controls",
       "_model_module_version": "1.5.0",
       "_model_name": "ProgressStyleModel",
       "_view_count": null,
       "_view_module": "@jupyter-widgets/base",
       "_view_module_version": "1.2.0",
       "_view_name": "StyleView",
       "bar_color": null,
       "description_width": ""
      }
     },
     "eeaf495185e345eba970e9d407e22837": {
      "model_module": "@jupyter-widgets/controls",
      "model_module_version": "1.5.0",
      "model_name": "DescriptionStyleModel",
      "state": {
       "_model_module": "@jupyter-widgets/controls",
       "_model_module_version": "1.5.0",
       "_model_name": "DescriptionStyleModel",
       "_view_count": null,
       "_view_module": "@jupyter-widgets/base",
       "_view_module_version": "1.2.0",
       "_view_name": "StyleView",
       "description_width": ""
      }
     },
     "f04b7dd2146149e98929d348ede58592": {
      "model_module": "@jupyter-widgets/controls",
      "model_module_version": "1.5.0",
      "model_name": "HTMLModel",
      "state": {
       "_dom_classes": [],
       "_model_module": "@jupyter-widgets/controls",
       "_model_module_version": "1.5.0",
       "_model_name": "HTMLModel",
       "_view_count": null,
       "_view_module": "@jupyter-widgets/controls",
       "_view_module_version": "1.5.0",
       "_view_name": "HTMLView",
       "description": "",
       "description_tooltip": null,
       "layout": "IPY_MODEL_2daaec5ca27444d5a1dfc3e9a02999fe",
       "placeholder": "​",
       "style": "IPY_MODEL_04450e6577f64788a84f0c0343876536",
       "value": " 455k/455k [00:00&lt;00:00, 4.85MB/s]"
      }
     },
     "ff5b820003d542caab2de7cf311df2a5": {
      "model_module": "@jupyter-widgets/controls",
      "model_module_version": "1.5.0",
      "model_name": "DescriptionStyleModel",
      "state": {
       "_model_module": "@jupyter-widgets/controls",
       "_model_module_version": "1.5.0",
       "_model_name": "DescriptionStyleModel",
       "_view_count": null,
       "_view_module": "@jupyter-widgets/base",
       "_view_module_version": "1.2.0",
       "_view_name": "StyleView",
       "description_width": ""
      }
     }
    },
    "version_major": 2,
    "version_minor": 0
   }
  }
 },
 "nbformat": 4,
 "nbformat_minor": 5
}
